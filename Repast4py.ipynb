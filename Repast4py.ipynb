{
  "nbformat": 4,
  "nbformat_minor": 0,
  "metadata": {
    "colab": {
      "name": "Repast4py.ipynb",
      "provenance": [],
      "authorship_tag": "ABX9TyPKRsicCDR2OVQ+uAnJHjez",
      "include_colab_link": true
    },
    "kernelspec": {
      "name": "python3",
      "display_name": "Python 3"
    },
    "language_info": {
      "name": "python"
    },
    "accelerator": "GPU"
  },
  "cells": [
    {
      "cell_type": "markdown",
      "metadata": {
        "id": "view-in-github",
        "colab_type": "text"
      },
      "source": [
        "<a href=\"https://colab.research.google.com/github/MatiasMingo/ML-Colab-Projects/blob/main/Repast4py.ipynb\" target=\"_parent\"><img src=\"https://colab.research.google.com/assets/colab-badge.svg\" alt=\"Open In Colab\"/></a>"
      ]
    },
    {
      "cell_type": "code",
      "metadata": {
        "colab": {
          "base_uri": "https://localhost:8080/",
          "height": 374
        },
        "id": "bN2K9jn_KhVT",
        "outputId": "5adb8184-9537-44d0-c335-084d681d04ae"
      },
      "source": [
        "import networkx as nx\n",
        "from typing import Dict\n",
        "from mpi4py import MPI\n",
        "import numpy as np\n",
        "from dataclasses import dataclass\n",
        "\n",
        "from repast4py.network import write_network, read_network\n",
        "from repast4py import context as ctx\n",
        "from repast4py import core, random, schedule, logging, parameters"
      ],
      "execution_count": 1,
      "outputs": [
        {
          "output_type": "error",
          "ename": "ModuleNotFoundError",
          "evalue": "ignored",
          "traceback": [
            "\u001b[0;31m---------------------------------------------------------------------------\u001b[0m",
            "\u001b[0;31mModuleNotFoundError\u001b[0m                       Traceback (most recent call last)",
            "\u001b[0;32m<ipython-input-1-81c9f7b29e61>\u001b[0m in \u001b[0;36m<module>\u001b[0;34m()\u001b[0m\n\u001b[1;32m      1\u001b[0m \u001b[0;32mimport\u001b[0m \u001b[0mnetworkx\u001b[0m \u001b[0;32mas\u001b[0m \u001b[0mnx\u001b[0m\u001b[0;34m\u001b[0m\u001b[0;34m\u001b[0m\u001b[0m\n\u001b[1;32m      2\u001b[0m \u001b[0;32mfrom\u001b[0m \u001b[0mtyping\u001b[0m \u001b[0;32mimport\u001b[0m \u001b[0mDict\u001b[0m\u001b[0;34m\u001b[0m\u001b[0;34m\u001b[0m\u001b[0m\n\u001b[0;32m----> 3\u001b[0;31m \u001b[0;32mfrom\u001b[0m \u001b[0mmpi4py\u001b[0m \u001b[0;32mimport\u001b[0m \u001b[0mMPI\u001b[0m\u001b[0;34m\u001b[0m\u001b[0;34m\u001b[0m\u001b[0m\n\u001b[0m\u001b[1;32m      4\u001b[0m \u001b[0;32mimport\u001b[0m \u001b[0mnumpy\u001b[0m \u001b[0;32mas\u001b[0m \u001b[0mnp\u001b[0m\u001b[0;34m\u001b[0m\u001b[0;34m\u001b[0m\u001b[0m\n\u001b[1;32m      5\u001b[0m \u001b[0;32mfrom\u001b[0m \u001b[0mdataclasses\u001b[0m \u001b[0;32mimport\u001b[0m \u001b[0mdataclass\u001b[0m\u001b[0;34m\u001b[0m\u001b[0;34m\u001b[0m\u001b[0m\n",
            "\u001b[0;31mModuleNotFoundError\u001b[0m: No module named 'mpi4py'",
            "",
            "\u001b[0;31m---------------------------------------------------------------------------\u001b[0;32m\nNOTE: If your import is failing due to a missing package, you can\nmanually install dependencies using either !pip or !apt.\n\nTo view examples of installing some common dependencies, click the\n\"Open Examples\" button below.\n\u001b[0;31m---------------------------------------------------------------------------\u001b[0m\n"
          ],
          "errorDetails": {
            "actions": [
              {
                "action": "open_url",
                "actionText": "Open Examples",
                "url": "/notebooks/snippets/importing_libraries.ipynb"
              }
            ]
          }
        }
      ]
    },
    {
      "cell_type": "code",
      "metadata": {
        "id": "M71Y7oYuXksC"
      },
      "source": [
        "def generate_network_file(fname: str, n_ranks: int, n_agents: int):\n",
        "    \"\"\"Generates a network file using repast4py.network.write_network.\n",
        "\n",
        "    Args:\n",
        "        fname: the name of the file to write to\n",
        "        n_ranks: the number of process ranks to distribute the file over\n",
        "        n_agents: the number of agents (node) in the network\n",
        "    \"\"\"\n",
        "    g = nx.connected_watts_strogatz_graph(n_agents, 2, 0.25)\n",
        "    try:\n",
        "        import nxmetis\n",
        "        write_network(g, 'rumor_network', fname, n_ranks, partition_method='metis')\n",
        "    except ImportError:\n",
        "        write_network(g, 'rumor_network', fname, n_ranks)\n",
        "\n",
        "\n",
        "model = None"
      ],
      "execution_count": null,
      "outputs": []
    },
    {
      "cell_type": "code",
      "metadata": {
        "id": "ZCO2_pagXmz2"
      },
      "source": [
        "class RumorAgent(core.Agent):\n",
        "\n",
        "    def __init__(self, nid: int, agent_type: int, rank: int, received_rumor=False):\n",
        "        super().__init__(nid, agent_type, rank)\n",
        "        self.received_rumor = received_rumor\n",
        "\n",
        "    def save(self):\n",
        "        \"\"\"Saves the state of this agent as tuple.\n",
        "\n",
        "        A non-ghost agent will save its state using this\n",
        "        method, and any ghost agents of this agent will\n",
        "        be updated with that data (self.received_rumor).\n",
        "\n",
        "        Returns:\n",
        "            The agent's state\n",
        "        \"\"\"\n",
        "        return (self.uid, self.received_rumor)\n",
        "\n",
        "    def update(self, data: bool):\n",
        "        \"\"\"Updates the state of this agent when it is a ghost\n",
        "        agent on some rank other than its local one.\n",
        "\n",
        "        Args:\n",
        "            data: the new agent state (received_rumor)\n",
        "        \"\"\"\n",
        "        if not self.received_rumor and data:\n",
        "            # only update if the received rumor state\n",
        "            # has changed from false to true\n",
        "            model.rumor_spreaders.append(self)\n",
        "            self.received_rumor = data\n",
        "\n",
        "\n",
        "def create_rumor_agent(nid, agent_type, rank, **kwargs):\n",
        "    return RumorAgent(nid, agent_type, rank)\n",
        "\n",
        "\n",
        "def restore_agent(agent_data):\n",
        "    uid = agent_data[0]\n",
        "    return RumorAgent(uid[0], uid[1], uid[2], agent_data[1])"
      ],
      "execution_count": null,
      "outputs": []
    },
    {
      "cell_type": "code",
      "metadata": {
        "id": "ltzzBNcEXq-6"
      },
      "source": [
        "@dataclass\n",
        "class RumorCounts:\n",
        "    total_rumor_spreaders: int\n",
        "    new_rumor_spreaders: int"
      ],
      "execution_count": null,
      "outputs": []
    },
    {
      "cell_type": "code",
      "metadata": {
        "id": "a_iMmp4KXsig"
      },
      "source": [
        "class Model:\n",
        "\n",
        "    def __init__(self, comm, params):\n",
        "        self.runner = schedule.init_schedule_runner(comm)\n",
        "        self.runner.schedule_repeating_event(1, 1, self.step)\n",
        "        self.runner.schedule_stop(params['stop.at'])\n",
        "        self.runner.schedule_end_event(self.at_end)\n",
        "\n",
        "        fpath = params['network_file']\n",
        "        self.context = ctx.SharedContext(comm)\n",
        "        read_network(fpath, self.context, create_rumor_agent, restore_agent)\n",
        "        self.net = self.context.get_projection('rumor_network')\n",
        "\n",
        "        self.rumor_spreaders = []\n",
        "        self.rank = comm.Get_rank()\n",
        "        self._seed_rumor(params['initial_rumor_count'], comm)\n",
        "\n",
        "        rumored_count = len(self.rumor_spreaders)\n",
        "        self.counts = RumorCounts(rumored_count, rumored_count)\n",
        "        loggers = logging.create_loggers(self.counts, op=MPI.SUM, rank=self.rank)\n",
        "        self.data_set = logging.ReducingDataSet(loggers, MPI.COMM_WORLD, params['counts_file'])\n",
        "        self.data_set.log(0)\n",
        "\n",
        "        self.rumor_prob = params['rumor_probability']\n",
        "\n",
        "    def _seed_rumor(self, init_rumor_count: int, comm):\n",
        "        world_size = comm.Get_size()\n",
        "        # np array of world size, the value of i'th element of the array\n",
        "        # is the number of rumors to seed on rank i.\n",
        "        rumor_counts = np.zeros(world_size, np.int32)\n",
        "        if (self.rank == 0):\n",
        "            for _ in range(init_rumor_count):\n",
        "                idx = random.default_rng.integers(0, high=world_size)\n",
        "                rumor_counts[idx] += 1\n",
        "\n",
        "        rumor_count = np.empty(1, dtype=np.int32)\n",
        "        comm.Scatter(rumor_counts, rumor_count, root=0)\n",
        "\n",
        "        for agent in self.context.agents(count=rumor_count[0], shuffle=True):\n",
        "            agent.received_rumor = True\n",
        "            self.rumor_spreaders.append(agent)\n",
        "\n",
        "    def at_end(self):\n",
        "        self.data_set.close()\n",
        "\n",
        "    def step(self):\n",
        "        new_rumor_spreaders = []\n",
        "        rng = random.default_rng\n",
        "        for agent in self.rumor_spreaders:\n",
        "            for ngh in self.net.graph.neighbors(agent):\n",
        "                # only update agents local to this rank\n",
        "                if not ngh.received_rumor and ngh.local_rank == self.rank and rng.uniform() <= self.rumor_prob:\n",
        "                    ngh.received_rumor = True\n",
        "                    new_rumor_spreaders.append(ngh)\n",
        "\n",
        "        self.rumor_spreaders += new_rumor_spreaders\n",
        "        self.counts.total_rumor_spreaders = len(self.rumor_spreaders)\n",
        "        self.counts.new_rumor_spreaders = len(new_rumor_spreaders)\n",
        "        self.data_set.log(self.runner.schedule.tick)\n",
        "\n",
        "        self.context.synchronize(restore_agent)\n",
        "\n",
        "    def start(self):\n",
        "        self.runner.execute()"
      ],
      "execution_count": null,
      "outputs": []
    },
    {
      "cell_type": "code",
      "metadata": {
        "id": "QrfV88vNXvdZ"
      },
      "source": [
        "def run(params: Dict):\n",
        "    global model\n",
        "    model = Model(MPI.COMM_WORLD, params)\n",
        "    model.start()\n"
      ],
      "execution_count": null,
      "outputs": []
    },
    {
      "cell_type": "code",
      "metadata": {
        "id": "1oy-cLyeXy5n"
      },
      "source": [
        "parser = parameters.create_args_parser()\n",
        "args = parser.parse_args()\n",
        "params = parameters.init_params(args.parameters_file, args.parameters)\n",
        "run(params)"
      ],
      "execution_count": null,
      "outputs": []
    },
    {
      "cell_type": "code",
      "metadata": {
        "id": "lmUG_DZUX1ji"
      },
      "source": [
        ""
      ],
      "execution_count": null,
      "outputs": []
    }
  ]
}