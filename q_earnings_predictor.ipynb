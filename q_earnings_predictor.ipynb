{
  "cells": [
    {
      "cell_type": "markdown",
      "metadata": {
        "id": "view-in-github",
        "colab_type": "text"
      },
      "source": [
        "<a href=\"https://colab.research.google.com/github/MatiasMingo/Machine-Learning-Projects/blob/main/q_earnings_predictor.ipynb\" target=\"_parent\"><img src=\"https://colab.research.google.com/assets/colab-badge.svg\" alt=\"Open In Colab\"/></a>"
      ]
    },
    {
      "cell_type": "code",
      "metadata": {
        "colab": {
          "base_uri": "https://localhost:8080/",
          "height": 204
        },
        "id": "B2uFAWfNSvKV",
        "outputId": "fb7e21bd-59dd-4135-924a-84fd30633125"
      },
      "source": [
        "import pandas as pd\n",
        "df = pd.read_csv('earnings_data.csv')\n",
        "df.head()"
      ],
      "execution_count": null,
      "outputs": [
        {
          "output_type": "execute_result",
          "data": {
            "text/html": [
              "<div>\n",
              "<style scoped>\n",
              "    .dataframe tbody tr th:only-of-type {\n",
              "        vertical-align: middle;\n",
              "    }\n",
              "\n",
              "    .dataframe tbody tr th {\n",
              "        vertical-align: top;\n",
              "    }\n",
              "\n",
              "    .dataframe thead th {\n",
              "        text-align: right;\n",
              "    }\n",
              "</style>\n",
              "<table border=\"1\" class=\"dataframe\">\n",
              "  <thead>\n",
              "    <tr style=\"text-align: right;\">\n",
              "      <th></th>\n",
              "      <th>emotion</th>\n",
              "      <th>pixels</th>\n",
              "      <th>Usage</th>\n",
              "    </tr>\n",
              "  </thead>\n",
              "  <tbody>\n",
              "    <tr>\n",
              "      <th>0</th>\n",
              "      <td>0</td>\n",
              "      <td>70 80 82 72 58 58 60 63 54 58 60 48 89 115 121...</td>\n",
              "      <td>ToV</td>\n",
              "    </tr>\n",
              "    <tr>\n",
              "      <th>1</th>\n",
              "      <td>4</td>\n",
              "      <td>20 17 19 21 25 38 42 42 46 54 56 62 63 66 82 1...</td>\n",
              "      <td>ToV</td>\n",
              "    </tr>\n",
              "    <tr>\n",
              "      <th>2</th>\n",
              "      <td>3</td>\n",
              "      <td>77 78 79 79 78 75 60 55 47 48 58 73 77 79 57 5...</td>\n",
              "      <td>ToV</td>\n",
              "    </tr>\n",
              "    <tr>\n",
              "      <th>3</th>\n",
              "      <td>3</td>\n",
              "      <td>85 84 90 121 101 102 133 153 153 169 177 189 1...</td>\n",
              "      <td>ToV</td>\n",
              "    </tr>\n",
              "    <tr>\n",
              "      <th>4</th>\n",
              "      <td>0</td>\n",
              "      <td>30 24 21 23 25 25 49 67 84 103 120 125 130 139...</td>\n",
              "      <td>ToV</td>\n",
              "    </tr>\n",
              "  </tbody>\n",
              "</table>\n",
              "</div>"
            ],
            "text/plain": [
              "   emotion                                             pixels Usage\n",
              "0        0  70 80 82 72 58 58 60 63 54 58 60 48 89 115 121...   ToV\n",
              "1        4  20 17 19 21 25 38 42 42 46 54 56 62 63 66 82 1...   ToV\n",
              "2        3  77 78 79 79 78 75 60 55 47 48 58 73 77 79 57 5...   ToV\n",
              "3        3  85 84 90 121 101 102 133 153 153 169 177 189 1...   ToV\n",
              "4        0  30 24 21 23 25 25 49 67 84 103 120 125 130 139...   ToV"
            ]
          },
          "metadata": {
            "tags": []
          },
          "execution_count": 2
        }
      ]
    },
    {
      "cell_type": "markdown",
      "metadata": {
        "id": "hgznWFzmXPeR"
      },
      "source": [
        "1."
      ]
    },
    {
      "cell_type": "code",
      "metadata": {
        "id": "3sxEb1Z6aLZ_",
        "colab": {
          "base_uri": "https://localhost:8080/",
          "height": 1000
        },
        "outputId": "8838f572-1b4e-4bfb-f427-5c3dc7ea98ea"
      },
      "source": [
        "!pip3 install face_recognition\n",
        "!pip install Pillow\n",
        "from PIL import Image, ImageDraw\n",
        "import pandas as pd\n",
        "df = pd.read_csv('mini_fer2013.csv')\n",
        "clean_df = df.dropna(axis=0)\n",
        "import face_recognition as fr\n",
        "import matplotlib.pyplot as plt\n",
        "import matplotlib.cm as cm\n",
        "from matplotlib.pyplot import imshow\n",
        "import numpy as np\n",
        "list_emotions = [\"enojo\", \"asco\", \"miedo\", \"alegría\", \"tristeza\", \"sorpresa\", \"neutral\"]\n",
        "\n",
        "def get_image(num_emotion):\n",
        "  index_row_df = 0\n",
        "  im = Image.new(\"L\",(48,48))\n",
        "  for elem in clean_df[\"emotion\"]:\n",
        "    if elem == num_emotion:\n",
        "      \"\"\"Imagenes de 48x48 \"\"\"\n",
        "      pixels = clean_df[\"pixels\"][index_row_df].split(\" \")\n",
        "      list_pixels = list()\n",
        "      print(\"Emoción imagen Nº{}: {}\".format(i+1,list_emotions[num_emotion]))\n",
        "      for pix in pixels:\n",
        "        if pix != \" \":\n",
        "          list_pixels.append(int(pix))\n",
        "      im.putdata(list_pixels)\n",
        "      plt.figure()\n",
        "      plt.imshow(im)\n",
        "      im.save(\"{}.jpg\".format(list_emotions[num_emotion]))\n",
        "      return\n",
        "    index_row_df += 1\n",
        "\n",
        "def plot_landmarks_pic(num_emotion):\n",
        "  path_img = \"{}.jpg\".format(list_emotions[num_emotion])\n",
        "  image = fr.load_image_file(path_img)\n",
        "  face_landmarks_list = fr.face_landmarks(image)\n",
        "  pil_image = Image.fromarray(image)\n",
        "  draw = ImageDraw.Draw(pil_image)\n",
        "  list_points = list()\n",
        "  try:\n",
        "    for key, value in face_landmarks_list[0].items():\n",
        "      for x,y in value:\n",
        "        if x < 0 or y < 0 or x > 48 or y > 48:\n",
        "          continue\n",
        "        else:\n",
        "          list_points.append((x,y))\n",
        "    draw.point(list_points, fill=0)\n",
        "    plt.figure()\n",
        "    plt.imshow(pil_image)\n",
        "  except:\n",
        "    plt.figure()\n",
        "    plt.imshow(pil_image)\n",
        "\n",
        "def plot_landmarks_points(num_emotion):\n",
        "  path_img = \"{}.jpg\".format(list_emotions[num_emotion])\n",
        "  image = fr.load_image_file(path_img)\n",
        "  face_landmarks_list = fr.face_landmarks(image)\n",
        "  list_points = list()\n",
        "  try:\n",
        "    for key, value in face_landmarks_list[0].items():\n",
        "      for x,y in value:\n",
        "        if x < 0 or y < 0 or x > 48 or y > 48:\n",
        "          continue\n",
        "        else:\n",
        "          list_points.append((x,y))\n",
        "    x_scatter = list()\n",
        "    y_scatter = list()\n",
        "    for x,y in list_points:\n",
        "      x_scatter.append(x)\n",
        "      y_scatter.append(y)\n",
        "    plt.scatter(np.array(x_scatter),np.array(y_scatter), color = 'hotpink')\n",
        "    plt.figure()\n",
        "  except:\n",
        "    plt.figure()\n",
        "\n",
        "for i in range(0,7):\n",
        "  get_image(i)\n",
        "  plot_landmarks_pic(i)\n",
        "  plot_landmarks_points(i)\n"
      ],
      "execution_count": null,
      "outputs": [
        {
          "output_type": "stream",
          "text": [
            "Collecting face_recognition\n",
            "  Downloading https://files.pythonhosted.org/packages/1e/95/f6c9330f54ab07bfa032bf3715c12455a381083125d8880c43cbe76bb3d0/face_recognition-1.3.0-py2.py3-none-any.whl\n",
            "Requirement already satisfied: Pillow in /usr/local/lib/python3.7/dist-packages (from face_recognition) (7.1.2)\n",
            "Collecting face-recognition-models>=0.3.0\n",
            "\u001b[?25l  Downloading https://files.pythonhosted.org/packages/cf/3b/4fd8c534f6c0d1b80ce0973d01331525538045084c73c153ee6df20224cf/face_recognition_models-0.3.0.tar.gz (100.1MB)\n",
            "\u001b[K     |████████████████████████████████| 100.2MB 43kB/s \n",
            "\u001b[?25hRequirement already satisfied: numpy in /usr/local/lib/python3.7/dist-packages (from face_recognition) (1.19.5)\n",
            "Requirement already satisfied: Click>=6.0 in /usr/local/lib/python3.7/dist-packages (from face_recognition) (7.1.2)\n",
            "Requirement already satisfied: dlib>=19.7 in /usr/local/lib/python3.7/dist-packages (from face_recognition) (19.18.0)\n",
            "Building wheels for collected packages: face-recognition-models\n",
            "  Building wheel for face-recognition-models (setup.py) ... \u001b[?25l\u001b[?25hdone\n",
            "  Created wheel for face-recognition-models: filename=face_recognition_models-0.3.0-py2.py3-none-any.whl size=100566184 sha256=ecbbd45b777964d7a06dabc10056cbef4fd8b2f68b258aa66ddb4cf2ae1bd66f\n",
            "  Stored in directory: /root/.cache/pip/wheels/d2/99/18/59c6c8f01e39810415c0e63f5bede7d83dfb0ffc039865465f\n",
            "Successfully built face-recognition-models\n",
            "Installing collected packages: face-recognition-models, face-recognition\n",
            "Successfully installed face-recognition-1.3.0 face-recognition-models-0.3.0\n",
            "Requirement already satisfied: Pillow in /usr/local/lib/python3.7/dist-packages (7.1.2)\n",
            "Emoción imagen Nº1: enojo\n",
            "Emoción imagen Nº2: asco\n",
            "Emoción imagen Nº3: miedo\n",
            "Emoción imagen Nº4: alegría\n",
            "Emoción imagen Nº5: tristeza\n",
            "Emoción imagen Nº6: sorpresa\n",
            "Emoción imagen Nº7: neutral\n"
          ],
          "name": "stdout"
        },
        {
          "output_type": "stream",
          "text": [
            "/usr/local/lib/python3.7/dist-packages/ipykernel_launcher.py:72: RuntimeWarning: More than 20 figures have been opened. Figures created through the pyplot interface (`matplotlib.pyplot.figure`) are retained until explicitly closed and may consume too much memory. (To control this warning, see the rcParam `figure.max_open_warning`).\n"
          ],
          "name": "stderr"
        },
        {
          "output_type": "display_data",
          "data": {
            "image/png": "[encoded data removed]",
            "text/plain": [
              "<Figure size 432x288 with 1 Axes>"
            ]
          },
          "metadata": {
            "tags": [],
            "needs_background": "light"
          }
        },
        {
          "output_type": "display_data",
          "data": {
            "image/png": "[encoded data removed]",
            "text/plain": [
              "<Figure size 432x288 with 1 Axes>"
            ]
          },
          "metadata": {
            "tags": [],
            "needs_background": "light"
          }
        },
        {
          "output_type": "display_data",
          "data": {
            "text/plain": [
              "<Figure size 432x288 with 0 Axes>"
            ]
          },
          "metadata": {
            "tags": []
          }
        },
        {
          "output_type": "display_data",
          "data": {
            "image/png": "[encoded data removed]",
            "text/plain": [
              "<Figure size 432x288 with 1 Axes>"
            ]
          },
          "metadata": {
            "tags": [],
            "needs_background": "light"
          }
        },
        {
          "output_type": "display_data",
          "data": {
            "image/png": "[encoded data removed]",
            "text/plain": [
              "<Figure size 432x288 with 1 Axes>"
            ]
          },
          "metadata": {
            "tags": [],
            "needs_background": "light"
          }
        },
        {
          "output_type": "display_data",
          "data": {
            "text/plain": [
              "<Figure size 432x288 with 0 Axes>"
            ]
          },
          "metadata": {
            "tags": []
          }
        },
        {
          "output_type": "display_data",
          "data": {
            "image/png": "[encoded data removed]",
            "text/plain": [
              "<Figure size 432x288 with 1 Axes>"
            ]
          },
          "metadata": {
            "tags": [],
            "needs_background": "light"
          }
        },
        {
          "output_type": "display_data",
          "data": {
            "image/png": "[encoded data removed]",
            "text/plain": [
              "<Figure size 432x288 with 1 Axes>"
            ]
          },
          "metadata": {
            "tags": [],
            "needs_background": "light"
          }
        },
        {
          "output_type": "display_data",
          "data": {
            "text/plain": [
              "<Figure size 432x288 with 0 Axes>"
            ]
          },
          "metadata": {
            "tags": []
          }
        },
        {
          "output_type": "display_data",
          "data": {
            "image/png": "[encoded data removed]",
            "text/plain": [
              "<Figure size 432x288 with 1 Axes>"
            ]
          },
          "metadata": {
            "tags": [],
            "needs_background": "light"
          }
        },
        {
          "output_type": "display_data",
          "data": {
            "image/png": "[encoded data removed]",
            "text/plain": [
              "<Figure size 432x288 with 1 Axes>"
            ]
          },
          "metadata": {
            "tags": [],
            "needs_background": "light"
          }
        },
        {
          "output_type": "display_data",
          "data": {
            "text/plain": [
              "<Figure size 432x288 with 0 Axes>"
            ]
          },
          "metadata": {
            "tags": []
          }
        },
        {
          "output_type": "display_data",
          "data": {
            "image/png": "[encoded data removed]",
            "text/plain": [
              "<Figure size 432x288 with 1 Axes>"
            ]
          },
          "metadata": {
            "tags": [],
            "needs_background": "light"
          }
        },
        {
          "output_type": "display_data",
          "data": {
            "image/png": "[encoded data removed]",
            "text/plain": [
              "<Figure size 432x288 with 1 Axes>"
            ]
          },
          "metadata": {
            "tags": [],
            "needs_background": "light"
          }
        },
        {
          "output_type": "display_data",
          "data": {
            "text/plain": [
              "<Figure size 432x288 with 0 Axes>"
            ]
          },
          "metadata": {
            "tags": []
          }
        },
        {
          "output_type": "display_data",
          "data": {
            "image/png": "[encoded data removed]",
            "text/plain": [
              "<Figure size 432x288 with 1 Axes>"
            ]
          },
          "metadata": {
            "tags": [],
            "needs_background": "light"
          }
        },
        {
          "output_type": "display_data",
          "data": {
            "image/png": "[encoded data removed]",
            "text/plain": [
              "<Figure size 432x288 with 1 Axes>"
            ]
          },
          "metadata": {
            "tags": [],
            "needs_background": "light"
          }
        },
        {
          "output_type": "display_data",
          "data": {
            "text/plain": [
              "<Figure size 432x288 with 0 Axes>"
            ]
          },
          "metadata": {
            "tags": []
          }
        },
        {
          "output_type": "display_data",
          "data": {
            "image/png": "[encoded data removed]",
            "text/plain": [
              "<Figure size 432x288 with 1 Axes>"
            ]
          },
          "metadata": {
            "tags": [],
            "needs_background": "light"
          }
        },
        {
          "output_type": "display_data",
          "data": {
            "image/png": "[encoded data removed]",
            "text/plain": [
              "<Figure size 432x288 with 1 Axes>"
            ]
          },
          "metadata": {
            "tags": [],
            "needs_background": "light"
          }
        },
        {
          "output_type": "display_data",
          "data": {
            "text/plain": [
              "<Figure size 432x288 with 0 Axes>"
            ]
          },
          "metadata": {
            "tags": []
          }
        }
      ]
    },
    {
      "cell_type": "markdown",
      "metadata": {
        "id": "RIrZ5qdOLCU5"
      },
      "source": [
        "En primer lugar se realizo una limpieza de los datos eliminando los nulos.\n",
        "\n",
        "Justificación al hacer el plotting de landmarks:\n",
        "Para los casos en que x o y eran negativos o mayores que 48 estas coordenadas se ignoraban ya que no estaban dentro de los márgenes de una imagen de 48x48 pixeles.\n",
        "Por otro lado, cuando la función face_landmarks retornaba una lista vacía no se dibujaban landmarks en la cara ya que dlib no reconocía landmarks."
      ]
    },
    {
      "cell_type": "markdown",
      "metadata": {
        "id": "tPMs3tbSNJ20"
      },
      "source": [
        "2."
      ]
    },
    {
      "cell_type": "code",
      "metadata": {
        "colab": {
          "base_uri": "https://localhost:8080/"
        },
        "id": "RtqsfFTONMT6",
        "outputId": "3585bf8f-d2f9-43ca-efe7-bb862c94cb51"
      },
      "source": [
        "import pandas as pd\n",
        "import matplotlib.pyplot as plt\n",
        "import matplotlib.cm as cm\n",
        "from matplotlib.pyplot import imshow\n",
        "import numpy as np\n",
        "df = pd.read_csv('mini_fer2013.csv')\n",
        "clean_df = df.dropna(axis=0)\n",
        "clean_df.isna().sum()\n",
        "count_duplicants = 0\n",
        "count_non_duplicated = 0\n",
        "duplicant_indexes = list()\n",
        "for vals in clean_df.duplicated():\n",
        "  if str(vals) == \"True\":\n",
        "    count_duplicants +=1\n",
        "  else:\n",
        "    count_non_duplicated +=1\n",
        "percentage_duplicated = 100*(count_duplicants/(count_duplicants+count_non_duplicated))\n",
        "\n",
        "\"\"\" Si hacemos print(str(percentage_duplicated)+\"%\") obtenemos un 4.14% de duplicados aproximadamente.\n",
        "4.14% no es un porcentaje muy alto de duplicados por lo tanto se dejan. También se dejan ya que pueden haber imagenes mal etiquetadas.\"\"\"\n",
        "\"\"\"Probaré la siguiente proporción del número de datos para los dataframes Training-Validation: 70%-20% aproximados respectivamente con respecto a el\n",
        "dataframe completo incluyendo el testing que es 10% aproximadamente.\n",
        "Los datos serán obtenidos aleatoriamente del dataframe preprocesado (clean_df).\n",
        "\"\"\"\n",
        "number_of_rows_df = len(df.index)\n",
        "rows_testing = df.loc[df['Usage'] == \"Test\"]\n",
        "print(\"Testing dataframe: \\n\")\n",
        "print(rows_testing)\n",
        "tov_clean_df = clean_df[~clean_df.isin(rows_testing)]\n",
        "tov_clean_df = tov_clean_df.dropna(axis=0)\n",
        "rows_training = tov_clean_df.sample(frac=0.78, replace=False, axis=0)\n",
        "rows_training = rows_training.dropna(axis=0)\n",
        "print(\"Training dataframe: \\n\")\n",
        "print(rows_training)\n",
        "rows_validation = tov_clean_df[~tov_clean_df.isin(rows_training)]\n",
        "rows_validation = rows_validation.dropna(axis=0)\n",
        "print(\"Validation dataframe: \\n\")\n",
        "print(rows_validation)\n",
        "\n",
        "\n",
        "rows_testing.to_csv(\"testing.csv\")\n",
        "rows_training.to_csv(\"training.csv\")\n",
        "rows_validation.to_csv(\"validation.csv\")\n",
        "\"\"\"Aquí se obtienen la cantidad de veces que clases ocurren para un cierto dataframe en este caso\n",
        "el de validation\n",
        "print(\"\\n validation\")\n",
        "print(rows_validation.loc[rows_validation['emotion'] == 0].shape[0])\n",
        "print(rows_validation.loc[rows_validation['emotion'] == 1].shape[0])\n",
        "print(rows_validation.loc[rows_validation['emotion'] == 2].shape[0])\n",
        "print(rows_validation.loc[rows_validation['emotion'] == 3].shape[0])\n",
        "print(rows_validation.loc[rows_validation['emotion'] == 4].shape[0])\n",
        "print(rows_validation.loc[rows_validation['emotion'] == 5].shape[0])\n",
        "print(rows_validation.loc[rows_validation['emotion'] == 6].shape[0])\n",
        "print(\"\\n testing\")\n",
        "print(rows_testing.loc[rows_testing['emotion'] == 0].shape[0])\n",
        "print(rows_testing.loc[rows_testing['emotion'] == 1].shape[0])\n",
        "print(rows_testing.loc[rows_testing['emotion'] == 2].shape[0])\n",
        "print(rows_testing.loc[rows_testing['emotion'] == 3].shape[0])\n",
        "print(rows_testing.loc[rows_testing['emotion'] == 4].shape[0])\n",
        "print(rows_testing.loc[rows_testing['emotion'] == 5].shape[0])\n",
        "print(rows_testing.loc[rows_testing['emotion'] == 6].shape[0])\n",
        "print(\"\\n training\")\n",
        "print(rows_training.loc[rows_training['emotion'] == 0].shape[0])\n",
        "print(rows_training.loc[rows_training['emotion'] == 1].shape[0])\n",
        "print(rows_training.loc[rows_training['emotion'] == 2].shape[0])\n",
        "print(rows_training.loc[rows_training['emotion'] == 3].shape[0])\n",
        "print(rows_training.loc[rows_training['emotion'] == 4].shape[0])\n",
        "print(rows_training.loc[rows_training['emotion'] == 5].shape[0])\n",
        "print(rows_training.loc[rows_training['emotion'] == 6].shape[0])\n",
        "\"\"\"\n",
        "print(\"\\n Matrices X  y vectores y \\n\")\n",
        "print(\"Para training: \\n\")\n",
        "X_training = rows_training[[\"pixels\"]].to_numpy()\n",
        "training_x = []\n",
        "for vert_t in X_training:\n",
        "  string_pixels = vert_t[0]\n",
        "  list_pixls = string_pixels.split(\" \")\n",
        "  map_object = map(int, list_pixls)\n",
        "  training_x.append(list(map_object))\n",
        "X_training = np.array(training_x)\n",
        "y_training = rows_training[[\"emotion\"]].to_numpy()\n",
        "print(\"X:{} \\n  y:{}\".format(X_training, y_training))\n",
        "\n",
        "print(\"Para validation: \\n\")\n",
        "X_validation = rows_validation[[\"pixels\"]].to_numpy()\n",
        "validation_x = []\n",
        "for vert_v in X_validation:\n",
        "  string_pixels = vert_v[0]\n",
        "  list_pixls = string_pixels.split(\" \")\n",
        "  map_object = map(int, list_pixls)\n",
        "  validation_x.append(list(map_object))\n",
        "X_validation = np.array(validation_x)\n",
        "y_validation = rows_validation[[\"emotion\"]].to_numpy()\n",
        "print(\"X:{} \\n  y:{}\".format(X_validation, y_validation))\n",
        "\n",
        "print(\"Para testing: \\n\")\n",
        "X_testing = rows_testing[[\"pixels\"]].to_numpy()\n",
        "testing_x = []\n",
        "for vert_test in X_testing:\n",
        "  string_pixels = vert_test[0]\n",
        "  list_pixls = string_pixels.split(\" \")\n",
        "  map_object = map(int, list_pixls)\n",
        "  testing_x.append(list(map_object))\n",
        "X_testing = np.array(testing_x)\n",
        "y_testing = rows_testing[[\"emotion\"]].to_numpy()\n",
        "print(\"X:{} \\n  y:{}\".format(X_testing, y_testing))\n"
      ],
      "execution_count": null,
      "outputs": [
        {
          "output_type": "stream",
          "text": [
            "Testing dataframe: \n",
            "\n",
            "       emotion                                             pixels Usage\n",
            "15455        0  170 118 101 88 88 75 78 82 66 74 68 59 63 64 6...  Test\n",
            "15456        4  72 66 66 69 62 51 57 60 56 66 63 70 68 68 81 9...  Test\n",
            "15457        3  4 4 7 12 14 18 26 31 33 38 44 49 59 68 80 86 9...  Test\n",
            "15458        0  245 245 239 122 144 101 33 37 84 137 143 130 1...  Test\n",
            "15459        3  20 31 65 81 79 63 61 51 61 97 114 121 140 200 ...  Test\n",
            "...        ...                                                ...   ...\n",
            "17155        3  217 220 222 223 223 224 225 223 223 225 223 22...  Test\n",
            "17156        5  248 251 239 144 102 95 82 77 91 138 153 145 14...  Test\n",
            "17157        2  164 172 175 171 172 173 178 181 188 192 197 20...  Test\n",
            "17158        6  50 36 17 22 23 29 33 39 34 37 37 37 39 43 48 5...  Test\n",
            "17159        3  30 28 28 29 31 30 42 68 79 81 77 67 67 71 63 6...  Test\n",
            "\n",
            "[1705 rows x 3 columns]\n",
            "Training dataframe: \n",
            "\n",
            "       emotion                                             pixels Usage\n",
            "6751       3.0  129 86 70 102 132 164 187 193 191 192 191 192 ...   ToV\n",
            "2454       3.0  240 241 241 241 241 241 242 241 243 233 223 22...   ToV\n",
            "4996       6.0  145 43 37 35 34 37 34 39 34 32 33 40 48 55 57 ...   ToV\n",
            "9081       3.0  109 105 98 70 22 7 5 3 8 11 8 4 7 24 74 48 17 ...   ToV\n",
            "11066      3.0  214 213 187 145 126 156 132 96 118 121 165 174...   ToV\n",
            "...        ...                                                ...   ...\n",
            "13023      6.0  220 224 225 225 213 207 162 69 93 113 99 84 80...   ToV\n",
            "8943       4.0  164 175 175 158 87 32 30 30 32 28 28 33 48 76 ...   ToV\n",
            "10443      4.0  76 60 50 42 60 68 60 57 65 34 7 9 10 14 9 17 1...   ToV\n",
            "12191      3.0  43 30 17 25 21 15 13 19 18 20 21 18 18 20 18 1...   ToV\n",
            "7140       3.0  78 94 108 116 113 110 132 153 163 179 187 197 ...   ToV\n",
            "\n",
            "[12055 rows x 3 columns]\n",
            "Validation dataframe: \n",
            "\n",
            "       emotion                                             pixels Usage\n",
            "1          4.0  20 17 19 21 25 38 42 42 46 54 56 62 63 66 82 1...   ToV\n",
            "4          0.0  30 24 21 23 25 25 49 67 84 103 120 125 130 139...   ToV\n",
            "8          2.0  174 51 37 37 38 41 22 25 22 24 35 51 70 83 98 ...   ToV\n",
            "11         3.0  224 227 219 217 215 210 187 177 189 200 206 21...   ToV\n",
            "16         3.0  234 233 228 231 234 233 236 230 236 196 112 85...   ToV\n",
            "...        ...                                                ...   ...\n",
            "15443      4.0  14 17 16 22 26 26 23 54 103 121 120 130 134 13...   ToV\n",
            "15444      4.0  83 83 84 84 84 85 86 86 70 66 62 42 56 82 88 6...   ToV\n",
            "15445      4.0  234 235 199 210 207 129 114 148 177 148 166 16...   ToV\n",
            "15451      4.0  108 116 135 133 135 146 147 147 160 158 164 16...   ToV\n",
            "15453      4.0  178 176 172 173 173 174 176 173 166 166 206 22...   ToV\n",
            "\n",
            "[3400 rows x 3 columns]\n",
            "\n",
            " validation\n",
            "422\n",
            "29\n",
            "216\n",
            "1248\n",
            "314\n",
            "395\n",
            "776\n",
            "\n",
            " testing\n",
            "184\n",
            "11\n",
            "132\n",
            "624\n",
            "126\n",
            "215\n",
            "413\n",
            "\n",
            " training\n",
            "1400\n",
            "77\n",
            "817\n",
            "4450\n",
            "1021\n",
            "1493\n",
            "2797\n",
            "\n",
            " Matrices X  y vectores y \n",
            "\n",
            "Para training: \n",
            "\n",
            "X:[[129  86  70 ...  99  75  91]\n",
            " [240 241 241 ... 240 241 236]\n",
            " [145  43  37 ... 199 199 199]\n",
            " ...\n",
            " [ 76  60  50 ... 162 163 164]\n",
            " [ 43  30  17 ...  91 167 214]\n",
            " [ 78  94 108 ...  16  17  20]] \n",
            "  y:[[3.]\n",
            " [3.]\n",
            " [6.]\n",
            " ...\n",
            " [4.]\n",
            " [3.]\n",
            " [3.]]\n",
            "Para validation: \n",
            "\n",
            "X:[[ 20  17  19 ...  99 107 118]\n",
            " [ 30  24  21 ... 172 173 173]\n",
            " [174  51  37 ...   7  11  16]\n",
            " ...\n",
            " [234 235 199 ... 251 247 239]\n",
            " [108 116 135 ...  27  17  15]\n",
            " [178 176 172 ...  14  15  19]] \n",
            "  y:[[4.]\n",
            " [0.]\n",
            " [2.]\n",
            " ...\n",
            " [4.]\n",
            " [4.]\n",
            " [4.]]\n",
            "Para testing: \n",
            "\n",
            "X:[[170 118 101 ... 159 133 131]\n",
            " [ 72  66  66 ...  92 101 109]\n",
            " [  4   4   7 ...  42  49  54]\n",
            " ...\n",
            " [164 172 175 ... 223 227 231]\n",
            " [ 50  36  17 ... 223 221 216]\n",
            " [ 30  28  28 ...  35  30  28]] \n",
            "  y:[[0]\n",
            " [4]\n",
            " [3]\n",
            " ...\n",
            " [2]\n",
            " [6]\n",
            " [3]]\n"
          ],
          "name": "stdout"
        }
      ]
    },
    {
      "cell_type": "markdown",
      "metadata": {
        "id": "uMpskU4MLbKB"
      },
      "source": [
        "Número de muestras para cada set:\n",
        "\n",
        "\n",
        "*   Testing: 1705 muestras\n",
        "*   Training: 12055 muestras\n",
        "*   Validation: 3400 muestras\n",
        "\n",
        "Ejemplos por cada clase en cada set:\n",
        "\n",
        "\n",
        "1.   Testing:\n",
        "*   Enojo: 184\n",
        "*   Asco: 11\n",
        "*   Miedo: 132\n",
        "*   Alegría: 624\n",
        "*   Tristeza: 126\n",
        "*   Sorpresa: 215\n",
        "*   Neutral: 413\n",
        "\n",
        "\n",
        "2.   Training:\n",
        "\n",
        "*   Enojo: 1400\n",
        "*   Asco: 77\n",
        "*   Miedo: 817\n",
        "*   Alegría: 4450\n",
        "*   Tristeza: 1021\n",
        "*   Sorpresa: 1493\n",
        "*   Neutral: 2797\n",
        "\n",
        "3.   Validation:\n",
        "*   Enojo: 422\n",
        "*   Asco: 29\n",
        "*   Miedo: 216\n",
        "*   Alegría: 1248\n",
        "*   Tristeza: 314\n",
        "*   Sorpresa: 395\n",
        "*   Neutral: 776\n",
        "\n",
        "\n",
        "¿Cuanto es el máximo de carácteristicas que puede incluir en cada matriz X?\n",
        "Según lo visto en clases con respecto a rule of thumb para la separación del set de datos el cual es:\n",
        "\n",
        "\n",
        "*   60-80% para training\n",
        "*   10-20% para testing\n",
        "*   10-20% validation\n",
        "\n",
        "Obtenemos los siguientes máximos de caracteristicas que pueden incluir cada matriz X (independientes entre ellas):\n",
        "\n",
        "1.   Testing: 3432\n",
        "2.   Training: 13728\n",
        "3.   Validation: 3432\n",
        "\n",
        "\n",
        "\n",
        "\n",
        "\n"
      ]
    },
    {
      "cell_type": "markdown",
      "metadata": {
        "id": "GCm-G8PGPX8z"
      },
      "source": [
        "3."
      ]
    },
    {
      "cell_type": "markdown",
      "metadata": {
        "id": "qRo1daQn4268"
      },
      "source": [
        "Estudio de 5 iteraciones de valores de kernel y slack para SVM:"
      ]
    },
    {
      "cell_type": "markdown",
      "metadata": {
        "id": "elXiI_Mq5wFi"
      },
      "source": [
        "Para kernel=\"linear\" y slack = 0.1"
      ]
    },
    {
      "cell_type": "code",
      "metadata": {
        "colab": {
          "base_uri": "https://localhost:8080/"
        },
        "id": "NUH87ULIPZq7",
        "outputId": "1fce7243-248b-444b-be69-175d8a0497e3"
      },
      "source": [
        "import pandas as pd\n",
        "import matplotlib.pyplot as plt\n",
        "import matplotlib.cm as cm\n",
        "from matplotlib.pyplot import imshow\n",
        "import numpy as np\n",
        "from sklearn.svm import SVC\n",
        "from sklearn.naive_bayes import GaussianNB\n",
        "from sklearn.tree import DecisionTreeClassifier\n",
        "from sklearn.pipeline import make_pipeline\n",
        "from sklearn.preprocessing import StandardScaler\n",
        "from sklearn.metrics import accuracy_score\n",
        "from sklearn.model_selection import cross_validate\n",
        "from sklearn.metrics import confusion_matrix\n",
        "\n",
        "df_training = pd.read_csv('training.csv')\n",
        "df_validation = pd.read_csv('validation.csv')\n",
        "df_testing = pd.read_csv('testing.csv')\n",
        "\n",
        "\"\"\"SVM\"\"\"\n",
        "X = df_training[[\"pixels\"]].to_numpy()\n",
        "new_x = []\n",
        "for vert in X:\n",
        "  string_pixels = vert[0]\n",
        "  list_pixls = string_pixels.split(\" \")\n",
        "  map_object = map(int, list_pixls)\n",
        "  new_x.append(list(map_object))\n",
        "X = np.array(new_x)\n",
        "y = df_training[[\"emotion\"]].to_numpy()\n",
        "\n",
        "list_kernels = [\"linear\",\"rbf\", \"sigmoid\"]\n",
        "list_slacks = [0.1,3,5,7,10]\n",
        "#slack = abs(t-clf.decision_function([x]))\n",
        "clf = make_pipeline(StandardScaler(), SVC().set_params(C=list_slacks[0],kernel=list_kernels[0]))\n",
        "clf.fit(X, y)\n",
        "X_val = df_validation[[\"pixels\"]].to_numpy()\n",
        "new_x_val = []\n",
        "for vert in X_val:\n",
        "  string_pixels = vert[0]\n",
        "  list_pixls = string_pixels.split(\" \")\n",
        "  map_object = map(int, list_pixls)\n",
        "  new_x_val.append(list(map_object))\n",
        "X_val = np.array(new_x_val)\n",
        "y_val = df_validation[[\"emotion\"]].to_numpy()\n",
        "y_prediction = clf.predict(X_val)\n",
        "accuracy = accuracy_score(y_val, y_prediction)\n",
        "print(\"Exactitud:{}\".format(accuracy))\n",
        "print(\"Confusion matrix:\\n\")\n",
        "confusion_matrix(y_val, y_prediction)"
      ],
      "execution_count": null,
      "outputs": [
        {
          "output_type": "stream",
          "text": [
            "/usr/local/lib/python3.7/dist-packages/sklearn/utils/validation.py:760: DataConversionWarning: A column-vector y was passed when a 1d array was expected. Please change the shape of y to (n_samples, ), for example using ravel().\n",
            "  y = column_or_1d(y, warn=True)\n"
          ],
          "name": "stderr"
        },
        {
          "output_type": "stream",
          "text": [
            "Exactitud:0.46294117647058824\n",
            "Confusion matrix:\n",
            "\n"
          ],
          "name": "stdout"
        },
        {
          "output_type": "execute_result",
          "data": {
            "text/plain": [
              "array([[118,   9,  30, 137,  25,  24,  79],\n",
              "       [  4,   2,   2,   7,   4,   4,   6],\n",
              "       [ 36,   4,  41,  57,  20,  20,  38],\n",
              "       [116,  15,  54, 828,  53,  40, 142],\n",
              "       [ 57,   6,  19,  90,  50,  13,  79],\n",
              "       [ 38,   2,  33,  42,  20, 215,  45],\n",
              "       [ 90,   9,  59, 207,  50,  41, 320]])"
            ]
          },
          "metadata": {
            "tags": []
          },
          "execution_count": 1
        }
      ]
    },
    {
      "cell_type": "markdown",
      "metadata": {
        "id": "t0wLi-Xd8Z5_"
      },
      "source": [
        "Para kernel=\"rbf\" y slack = 7"
      ]
    },
    {
      "cell_type": "code",
      "metadata": {
        "colab": {
          "base_uri": "https://localhost:8080/"
        },
        "id": "vlQrqdWD0j_j",
        "outputId": "5ca785a0-4ba3-4312-9267-7296aced13e8"
      },
      "source": [
        "import pandas as pd\n",
        "import matplotlib.pyplot as plt\n",
        "import matplotlib.cm as cm\n",
        "from matplotlib.pyplot import imshow\n",
        "import numpy as np\n",
        "from sklearn.svm import SVC\n",
        "from sklearn.naive_bayes import GaussianNB\n",
        "from sklearn.tree import DecisionTreeClassifier\n",
        "from sklearn.pipeline import make_pipeline\n",
        "from sklearn.preprocessing import StandardScaler\n",
        "from sklearn.metrics import accuracy_score\n",
        "from sklearn.model_selection import cross_validate\n",
        "from sklearn.metrics import confusion_matrix\n",
        "\n",
        "df_training = pd.read_csv('training.csv')\n",
        "df_validation = pd.read_csv('validation.csv')\n",
        "df_testing = pd.read_csv('testing.csv')\n",
        "\n",
        "\"\"\"SVM\"\"\"\n",
        "X = df_training[[\"pixels\"]].to_numpy()\n",
        "new_x = []\n",
        "for vert in X:\n",
        "  string_pixels = vert[0]\n",
        "  list_pixls = string_pixels.split(\" \")\n",
        "  map_object = map(int, list_pixls)\n",
        "  new_x.append(list(map_object))\n",
        "X = np.array(new_x)\n",
        "y = df_training[[\"emotion\"]].to_numpy()\n",
        "\n",
        "list_kernels = [\"linear\",\"rbf\", \"sigmoid\"]\n",
        "list_slacks = [1,7,5,0.3,0.6]\n",
        "#slack = abs(t-clf.decision_function([x]))\n",
        "clf = make_pipeline(StandardScaler(), SVC().set_params(C=list_slacks[1],kernel=list_kernels[1]))\n",
        "clf.fit(X, y)\n",
        "X_val = df_validation[[\"pixels\"]].to_numpy()\n",
        "new_x_val = []\n",
        "for vert in X_val:\n",
        "  string_pixels = vert[0]\n",
        "  list_pixls = string_pixels.split(\" \")\n",
        "  map_object = map(int, list_pixls)\n",
        "  new_x_val.append(list(map_object))\n",
        "X_val = np.array(new_x_val)\n",
        "y_val = df_validation[[\"emotion\"]].to_numpy()\n",
        "y_prediction = clf.predict(X_val)\n",
        "accuracy = accuracy_score(y_val, y_prediction)\n",
        "print(\"Exactitud:{}\".format(accuracy))\n",
        "print(\"Confusion matrix:\\n\")\n",
        "confusion_matrix(y_val, y_prediction)"
      ],
      "execution_count": null,
      "outputs": [
        {
          "output_type": "stream",
          "text": [
            "/usr/local/lib/python3.7/dist-packages/sklearn/utils/validation.py:760: DataConversionWarning: A column-vector y was passed when a 1d array was expected. Please change the shape of y to (n_samples, ), for example using ravel().\n",
            "  y = column_or_1d(y, warn=True)\n"
          ],
          "name": "stderr"
        },
        {
          "output_type": "stream",
          "text": [
            "Exactitud:0.5935294117647059\n",
            "Confusion matrix:\n",
            "\n"
          ],
          "name": "stdout"
        },
        {
          "output_type": "execute_result",
          "data": {
            "text/plain": [
              "array([[ 155,    0,   20,  120,   28,   18,   81],\n",
              "       [   4,    3,    5,    8,    1,    2,    6],\n",
              "       [  24,    0,   55,   54,   17,   22,   44],\n",
              "       [  49,    0,    8, 1029,   25,   20,  117],\n",
              "       [  48,    0,   18,   94,   55,    7,   92],\n",
              "       [  22,    0,   12,   42,    2,  269,   48],\n",
              "       [  52,    0,   22,  183,   42,   25,  452]])"
            ]
          },
          "metadata": {
            "tags": []
          },
          "execution_count": 2
        }
      ]
    },
    {
      "cell_type": "markdown",
      "metadata": {
        "id": "77Z3-Ft08g2F"
      },
      "source": [
        "Para kernel=\"sigmoid\" y slack = 5"
      ]
    },
    {
      "cell_type": "code",
      "metadata": {
        "colab": {
          "base_uri": "https://localhost:8080/"
        },
        "id": "tMqxxFLK05LG",
        "outputId": "90970a31-317c-44ea-9d7b-3b91baa83965"
      },
      "source": [
        "import pandas as pd\n",
        "import matplotlib.pyplot as plt\n",
        "import matplotlib.cm as cm\n",
        "from matplotlib.pyplot import imshow\n",
        "import numpy as np\n",
        "from sklearn.svm import SVC\n",
        "from sklearn.naive_bayes import GaussianNB\n",
        "from sklearn.tree import DecisionTreeClassifier\n",
        "from sklearn.pipeline import make_pipeline\n",
        "from sklearn.preprocessing import StandardScaler\n",
        "from sklearn.metrics import accuracy_score\n",
        "from sklearn.model_selection import cross_validate\n",
        "from sklearn.metrics import confusion_matrix\n",
        "\n",
        "df_training = pd.read_csv('training.csv')\n",
        "df_validation = pd.read_csv('validation.csv')\n",
        "df_testing = pd.read_csv('testing.csv')\n",
        "\n",
        "\"\"\"SVM\"\"\"\n",
        "X = df_training[[\"pixels\"]].to_numpy()\n",
        "new_x = []\n",
        "for vert in X:\n",
        "  string_pixels = vert[0]\n",
        "  list_pixls = string_pixels.split(\" \")\n",
        "  map_object = map(int, list_pixls)\n",
        "  new_x.append(list(map_object))\n",
        "X = np.array(new_x)\n",
        "y = df_training[[\"emotion\"]].to_numpy()\n",
        "\n",
        "list_kernels = [\"linear\",\"rbf\", \"sigmoid\"]\n",
        "list_slacks = [1,3,5,7,10]\n",
        "#slack = abs(t-clf.decision_function([x]))\n",
        "clf = make_pipeline(StandardScaler(), SVC().set_params(C=list_slacks[2],kernel=list_kernels[2]))\n",
        "clf.fit(X, y)\n",
        "X_val = df_validation[[\"pixels\"]].to_numpy()\n",
        "new_x_val = []\n",
        "for vert in X_val:\n",
        "  string_pixels = vert[0]\n",
        "  list_pixls = string_pixels.split(\" \")\n",
        "  map_object = map(int, list_pixls)\n",
        "  new_x_val.append(list(map_object))\n",
        "X_val = np.array(new_x_val)\n",
        "y_val = df_validation[[\"emotion\"]].to_numpy()\n",
        "y_prediction = clf.predict(X_val)\n",
        "accuracy = accuracy_score(y_val, y_prediction)\n",
        "print(\"Exactitud:{}\".format(accuracy))\n",
        "print(\"Confusion matrix:\\n\")\n",
        "confusion_matrix(y_val, y_prediction)"
      ],
      "execution_count": null,
      "outputs": [
        {
          "output_type": "stream",
          "text": [
            "/usr/local/lib/python3.7/dist-packages/sklearn/utils/validation.py:760: DataConversionWarning: A column-vector y was passed when a 1d array was expected. Please change the shape of y to (n_samples, ), for example using ravel().\n",
            "  y = column_or_1d(y, warn=True)\n"
          ],
          "name": "stderr"
        },
        {
          "output_type": "stream",
          "text": [
            "Exactitud:0.3447058823529412\n",
            "Confusion matrix:\n",
            "\n"
          ],
          "name": "stdout"
        },
        {
          "output_type": "execute_result",
          "data": {
            "text/plain": [
              "array([[133,   0,   1, 109,  76,  15,  88],\n",
              "       [  4,   0,   0,  10,   1,   5,   9],\n",
              "       [ 48,   0,   5,  66,  37,  13,  47],\n",
              "       [228,   2,   4, 646, 176,  15, 177],\n",
              "       [ 82,   0,   3,  95,  62,   5,  67],\n",
              "       [ 95,   1,   5,  71,  46,  93,  84],\n",
              "       [169,   0,   8, 194, 153,  19, 233]])"
            ]
          },
          "metadata": {
            "tags": []
          },
          "execution_count": 3
        }
      ]
    },
    {
      "cell_type": "markdown",
      "metadata": {
        "id": "YhGM9lnl8m45"
      },
      "source": [
        "Para kernel=\"linear\" y slack = 0.3"
      ]
    },
    {
      "cell_type": "code",
      "metadata": {
        "colab": {
          "base_uri": "https://localhost:8080/"
        },
        "id": "MUjGwD0V0_8I",
        "outputId": "2e7bd2ba-191a-4531-acf5-83496a940150"
      },
      "source": [
        "import pandas as pd\n",
        "import matplotlib.pyplot as plt\n",
        "import matplotlib.cm as cm\n",
        "from matplotlib.pyplot import imshow\n",
        "import numpy as np\n",
        "from sklearn.svm import SVC\n",
        "from sklearn.naive_bayes import GaussianNB\n",
        "from sklearn.tree import DecisionTreeClassifier\n",
        "from sklearn.pipeline import make_pipeline\n",
        "from sklearn.preprocessing import StandardScaler\n",
        "from sklearn.metrics import accuracy_score\n",
        "from sklearn.model_selection import cross_validate\n",
        "from sklearn.metrics import confusion_matrix\n",
        "\n",
        "df_training = pd.read_csv('training.csv')\n",
        "df_validation = pd.read_csv('validation.csv')\n",
        "df_testing = pd.read_csv('testing.csv')\n",
        "\n",
        "\"\"\"SVM\"\"\"\n",
        "X = df_training[[\"pixels\"]].to_numpy()\n",
        "new_x = []\n",
        "for vert in X:\n",
        "  string_pixels = vert[0]\n",
        "  list_pixls = string_pixels.split(\" \")\n",
        "  map_object = map(int, list_pixls)\n",
        "  new_x.append(list(map_object))\n",
        "X = np.array(new_x)\n",
        "y = df_training[[\"emotion\"]].to_numpy()\n",
        "\n",
        "list_kernels = [\"linear\",\"rbf\", \"sigmoid\"]\n",
        "list_slacks = [1,3,5,0.3,0.6]\n",
        "#slack = abs(t-clf.decision_function([x]))\n",
        "clf = make_pipeline(StandardScaler(), SVC().set_params(C=list_slacks[3],kernel=list_kernels[0]))\n",
        "clf.fit(X, y)\n",
        "X_val = df_validation[[\"pixels\"]].to_numpy()\n",
        "new_x_val = []\n",
        "for vert in X_val:\n",
        "  string_pixels = vert[0]\n",
        "  list_pixls = string_pixels.split(\" \")\n",
        "  map_object = map(int, list_pixls)\n",
        "  new_x_val.append(list(map_object))\n",
        "X_val = np.array(new_x_val)\n",
        "y_val = df_validation[[\"emotion\"]].to_numpy()\n",
        "y_prediction = clf.predict(X_val)\n",
        "accuracy = accuracy_score(y_val, y_prediction)\n",
        "print(\"Exactitud:{}\".format(accuracy))\n",
        "print(\"Confusion matrix:\\n\")\n",
        "confusion_matrix(y_val, y_prediction)"
      ],
      "execution_count": null,
      "outputs": [
        {
          "output_type": "stream",
          "text": [
            "/usr/local/lib/python3.7/dist-packages/sklearn/utils/validation.py:760: DataConversionWarning: A column-vector y was passed when a 1d array was expected. Please change the shape of y to (n_samples, ), for example using ravel().\n",
            "  y = column_or_1d(y, warn=True)\n"
          ],
          "name": "stderr"
        },
        {
          "output_type": "stream",
          "text": [
            "Exactitud:0.44794117647058823\n",
            "Confusion matrix:\n",
            "\n"
          ],
          "name": "stdout"
        },
        {
          "output_type": "execute_result",
          "data": {
            "text/plain": [
              "array([[119,   8,  38, 128,  32,  27,  70],\n",
              "       [  5,   2,   6,   4,   5,   4,   3],\n",
              "       [ 39,   4,  46,  56,  14,  14,  43],\n",
              "       [134,  17,  65, 792,  54,  42, 144],\n",
              "       [ 71,   6,  29,  79,  48,  17,  64],\n",
              "       [ 39,   2,  38,  45,  16, 216,  39],\n",
              "       [ 99,   9,  72, 195,  54,  47, 300]])"
            ]
          },
          "metadata": {
            "tags": []
          },
          "execution_count": 4
        }
      ]
    },
    {
      "cell_type": "markdown",
      "metadata": {
        "id": "Gzeg3INx8riU"
      },
      "source": [
        "Para kernel=\"rbf\" y slack = 0.6"
      ]
    },
    {
      "cell_type": "code",
      "metadata": {
        "colab": {
          "base_uri": "https://localhost:8080/"
        },
        "id": "Q7kL096J1YlL",
        "outputId": "e361f29f-0bef-4802-ae53-6ff0734fbfc8"
      },
      "source": [
        "import pandas as pd\n",
        "import matplotlib.pyplot as plt\n",
        "import matplotlib.cm as cm\n",
        "from matplotlib.pyplot import imshow\n",
        "import numpy as np\n",
        "from sklearn.svm import SVC\n",
        "from sklearn.naive_bayes import GaussianNB\n",
        "from sklearn.tree import DecisionTreeClassifier\n",
        "from sklearn.pipeline import make_pipeline\n",
        "from sklearn.preprocessing import StandardScaler\n",
        "from sklearn.metrics import accuracy_score\n",
        "from sklearn.model_selection import cross_validate\n",
        "from sklearn.metrics import confusion_matrix\n",
        "\n",
        "df_training = pd.read_csv('training.csv')\n",
        "df_validation = pd.read_csv('validation.csv')\n",
        "df_testing = pd.read_csv('testing.csv')\n",
        "\n",
        "\"\"\"SVM\"\"\"\n",
        "X = df_training[[\"pixels\"]].to_numpy()\n",
        "new_x = []\n",
        "for vert in X:\n",
        "  string_pixels = vert[0]\n",
        "  list_pixls = string_pixels.split(\" \")\n",
        "  map_object = map(int, list_pixls)\n",
        "  new_x.append(list(map_object))\n",
        "X = np.array(new_x)\n",
        "y = df_training[[\"emotion\"]].to_numpy()\n",
        "\n",
        "list_kernels = [\"linear\",\"rbf\", \"sigmoid\"]\n",
        "list_slacks = [1,3,5,0.3,0.6]\n",
        "#slack = abs(t-clf.decision_function([x]))\n",
        "clf = make_pipeline(StandardScaler(), SVC().set_params(C=list_slacks[4],kernel=list_kernels[1]))\n",
        "clf.fit(X, y)\n",
        "X_val = df_validation[[\"pixels\"]].to_numpy()\n",
        "new_x_val = []\n",
        "for vert in X_val:\n",
        "  string_pixels = vert[0]\n",
        "  list_pixls = string_pixels.split(\" \")\n",
        "  map_object = map(int, list_pixls)\n",
        "  new_x_val.append(list(map_object))\n",
        "X_val = np.array(new_x_val)\n",
        "y_val = df_validation[[\"emotion\"]].to_numpy()\n",
        "y_prediction = clf.predict(X_val)\n",
        "accuracy = accuracy_score(y_val, y_prediction)\n",
        "print(\"Exactitud:{}\".format(accuracy))\n",
        "print(\"Confusion matrix:\\n\")\n",
        "confusion_matrix(y_val, y_prediction)"
      ],
      "execution_count": null,
      "outputs": [
        {
          "output_type": "stream",
          "text": [
            "/usr/local/lib/python3.7/dist-packages/sklearn/utils/validation.py:760: DataConversionWarning: A column-vector y was passed when a 1d array was expected. Please change the shape of y to (n_samples, ), for example using ravel().\n",
            "  y = column_or_1d(y, warn=True)\n"
          ],
          "name": "stderr"
        },
        {
          "output_type": "stream",
          "text": [
            "Exactitud:0.5620588235294117\n",
            "Confusion matrix:\n",
            "\n"
          ],
          "name": "stdout"
        },
        {
          "output_type": "execute_result",
          "data": {
            "text/plain": [
              "array([[  81,    0,    0,  206,    0,   24,  111],\n",
              "       [   3,    0,    0,   14,    0,    3,    9],\n",
              "       [  10,    0,    8,  111,    1,   17,   69],\n",
              "       [   7,    0,    0, 1115,    2,   20,  104],\n",
              "       [  15,    0,    0,  153,   10,   10,  126],\n",
              "       [   7,    0,    0,   87,    0,  231,   70],\n",
              "       [  12,    0,    0,  280,    1,   17,  466]])"
            ]
          },
          "metadata": {
            "tags": []
          },
          "execution_count": 5
        }
      ]
    },
    {
      "cell_type": "markdown",
      "metadata": {
        "id": "Pjap_j9T49Aj"
      },
      "source": [
        "Estudio de arbol de decisión para dos valores de criterion y 7 valores de max_depth"
      ]
    },
    {
      "cell_type": "markdown",
      "metadata": {
        "id": "Ajh-gnOWR3rl"
      },
      "source": [
        "criterion = \"gini\" y max_depth = 7"
      ]
    },
    {
      "cell_type": "code",
      "metadata": {
        "colab": {
          "base_uri": "https://localhost:8080/"
        },
        "id": "Jk7X0u9U5UDV",
        "outputId": "b6342c90-4fc8-4a5f-e9c0-33ba01c7b3b1"
      },
      "source": [
        "import pandas as pd\n",
        "import matplotlib.pyplot as plt\n",
        "import matplotlib.cm as cm\n",
        "from matplotlib.pyplot import imshow\n",
        "import numpy as np\n",
        "from sklearn.svm import SVC\n",
        "from sklearn.naive_bayes import GaussianNB\n",
        "from sklearn.tree import DecisionTreeClassifier\n",
        "from sklearn.pipeline import make_pipeline\n",
        "from sklearn.preprocessing import StandardScaler\n",
        "from sklearn.metrics import accuracy_score\n",
        "from sklearn.model_selection import cross_validate, train_test_split\n",
        "from sklearn.metrics import confusion_matrix\n",
        "\n",
        "df_training = pd.read_csv('training.csv')\n",
        "df_validation = pd.read_csv('validation.csv')\n",
        "df_testing = pd.read_csv('testing.csv')\n",
        "\n",
        "list_criterions = [\"gini\", \"entropy\"]\n",
        "list_depths = [7,10,3,4,5,20,40]\n",
        "\n",
        "\"\"\"Arbol de decisión\"\"\"\n",
        "X = df_training[[\"pixels\"]].to_numpy()\n",
        "new_x = []\n",
        "for vert in X:\n",
        "  string_pixels = vert[0]\n",
        "  list_pixls = string_pixels.split(\" \")\n",
        "  map_object = map(int, list_pixls)\n",
        "  new_x.append(list(map_object))\n",
        "X = np.array(new_x)\n",
        "y = df_training[[\"emotion\"]].to_numpy()\n",
        "\n",
        "clf = DecisionTreeClassifier().set_params(criterion=list_criterions[0],max_depth=list_depths[0])\n",
        "clf = clf.fit(X,y)\n",
        "X_val = df_validation[[\"pixels\"]].to_numpy()\n",
        "new_x_val = []\n",
        "for vert in X_val:\n",
        "  string_pixels = vert[0]\n",
        "  list_pixls = string_pixels.split(\" \")\n",
        "  map_object = map(int, list_pixls)\n",
        "  new_x_val.append(list(map_object))\n",
        "X_val = np.array(new_x_val)\n",
        "y_val = df_validation[[\"emotion\"]].to_numpy()\n",
        "y_prediction = clf.predict(X_val)\n",
        "accuracy = accuracy_score(y_val, y_prediction)\n",
        "print(\"Exactitud:{}\".format(accuracy))\n",
        "print(\"Confusion matrix:\\n\")\n",
        "confusion_matrix(y_val, y_prediction)"
      ],
      "execution_count": null,
      "outputs": [
        {
          "output_type": "stream",
          "text": [
            "Exactitud:0.4326470588235294\n",
            "Confusion matrix:\n",
            "\n"
          ],
          "name": "stdout"
        },
        {
          "output_type": "execute_result",
          "data": {
            "text/plain": [
              "array([[ 34,   0,   6, 209,  19,  30, 124],\n",
              "       [  1,   0,   1,  13,   1,   2,  11],\n",
              "       [ 15,   0,   5,  80,   3,  27,  86],\n",
              "       [ 35,   0,  11, 879,  17,  52, 254],\n",
              "       [ 25,   0,   5, 140,  12,  21, 111],\n",
              "       [ 15,   0,   6, 110,   3, 148, 113],\n",
              "       [ 19,   0,   1, 283,  21,  59, 393]])"
            ]
          },
          "metadata": {
            "tags": []
          },
          "execution_count": 6
        }
      ]
    },
    {
      "cell_type": "markdown",
      "metadata": {
        "id": "saaFLWO7cDwv"
      },
      "source": [
        "criterion = \"gini\" max_depth = 10"
      ]
    },
    {
      "cell_type": "code",
      "metadata": {
        "colab": {
          "base_uri": "https://localhost:8080/"
        },
        "id": "hXbe3o_CcMD0",
        "outputId": "1aeccb73-cafb-4190-9069-0da6c234b389"
      },
      "source": [
        "import pandas as pd\n",
        "import matplotlib.pyplot as plt\n",
        "import matplotlib.cm as cm\n",
        "from matplotlib.pyplot import imshow\n",
        "import numpy as np\n",
        "from sklearn.svm import SVC\n",
        "from sklearn.naive_bayes import GaussianNB\n",
        "from sklearn.tree import DecisionTreeClassifier\n",
        "from sklearn.pipeline import make_pipeline\n",
        "from sklearn.preprocessing import StandardScaler\n",
        "from sklearn.metrics import accuracy_score\n",
        "from sklearn.model_selection import cross_validate, train_test_split\n",
        "from sklearn.metrics import confusion_matrix\n",
        "\n",
        "df_training = pd.read_csv('training.csv')\n",
        "df_validation = pd.read_csv('validation.csv')\n",
        "df_testing = pd.read_csv('testing.csv')\n",
        "\n",
        "list_criterions = [\"gini\", \"entropy\"]\n",
        "list_depths = [7,10,3,4,5,20,40]\n",
        "\n",
        "\"\"\"Arbol de decisión\"\"\"\n",
        "X = df_training[[\"pixels\"]].to_numpy()\n",
        "new_x = []\n",
        "for vert in X:\n",
        "  string_pixels = vert[0]\n",
        "  list_pixls = string_pixels.split(\" \")\n",
        "  map_object = map(int, list_pixls)\n",
        "  new_x.append(list(map_object))\n",
        "X = np.array(new_x)\n",
        "y = df_training[[\"emotion\"]].to_numpy()\n",
        "\n",
        "clf = DecisionTreeClassifier().set_params(criterion=list_criterions[0],max_depth=list_depths[1])\n",
        "\n",
        "clf = clf.fit(X,y)\n",
        "X_val = df_validation[[\"pixels\"]].to_numpy()\n",
        "new_x_val = []\n",
        "for vert in X_val:\n",
        "  string_pixels = vert[0]\n",
        "  list_pixls = string_pixels.split(\" \")\n",
        "  map_object = map(int, list_pixls)\n",
        "  new_x_val.append(list(map_object))\n",
        "X_val = np.array(new_x_val)\n",
        "y_val = df_validation[[\"emotion\"]].to_numpy()\n",
        "y_prediction = clf.predict(X_val)\n",
        "accuracy = accuracy_score(y_val, y_prediction)\n",
        "print(\"Exactitud:{}\".format(accuracy))\n",
        "print(\"Confusion matrix:\\n\")\n",
        "confusion_matrix(y_val, y_prediction)"
      ],
      "execution_count": null,
      "outputs": [
        {
          "output_type": "stream",
          "text": [
            "Exactitud:0.43176470588235294\n",
            "Confusion matrix:\n",
            "\n"
          ],
          "name": "stdout"
        },
        {
          "output_type": "execute_result",
          "data": {
            "text/plain": [
              "array([[ 66,   2,  16, 164,  22,  28, 124],\n",
              "       [  2,   0,   0,  10,   2,   3,  12],\n",
              "       [ 23,   0,  19,  69,  10,  19,  76],\n",
              "       [ 84,   1,  36, 797,  55,  36, 239],\n",
              "       [ 34,   0,  12, 104,  26,  18, 120],\n",
              "       [ 25,   1,  11,  86,  14, 150, 108],\n",
              "       [ 44,   0,  24, 232,  29,  37, 410]])"
            ]
          },
          "metadata": {
            "tags": []
          },
          "execution_count": 7
        }
      ]
    },
    {
      "cell_type": "markdown",
      "metadata": {
        "id": "QBby3oCRcdee"
      },
      "source": [
        "criterion = \"gini\" max_depth = 3"
      ]
    },
    {
      "cell_type": "code",
      "metadata": {
        "colab": {
          "base_uri": "https://localhost:8080/"
        },
        "id": "325NUUOlctbO",
        "outputId": "8a2af41f-e1b1-44cd-8222-827dbc62d70a"
      },
      "source": [
        "import pandas as pd\n",
        "import matplotlib.pyplot as plt\n",
        "import matplotlib.cm as cm\n",
        "from matplotlib.pyplot import imshow\n",
        "import numpy as np\n",
        "from sklearn.svm import SVC\n",
        "from sklearn.naive_bayes import GaussianNB\n",
        "from sklearn.tree import DecisionTreeClassifier\n",
        "from sklearn.pipeline import make_pipeline\n",
        "from sklearn.preprocessing import StandardScaler\n",
        "from sklearn.metrics import accuracy_score\n",
        "from sklearn.model_selection import cross_validate, train_test_split\n",
        "from sklearn.metrics import confusion_matrix\n",
        "\n",
        "df_training = pd.read_csv('training.csv')\n",
        "df_validation = pd.read_csv('validation.csv')\n",
        "df_testing = pd.read_csv('testing.csv')\n",
        "\n",
        "list_criterions = [\"gini\", \"entropy\"]\n",
        "list_depths = [7,10,3,4,5,20,40]\n",
        "\n",
        "\"\"\"Arbol de decisión\"\"\"\n",
        "X = df_training[[\"pixels\"]].to_numpy()\n",
        "new_x = []\n",
        "for vert in X:\n",
        "  string_pixels = vert[0]\n",
        "  list_pixls = string_pixels.split(\" \")\n",
        "  map_object = map(int, list_pixls)\n",
        "  new_x.append(list(map_object))\n",
        "X = np.array(new_x)\n",
        "y = df_training[[\"emotion\"]].to_numpy()\n",
        "\n",
        "clf = DecisionTreeClassifier().set_params(criterion=list_criterions[0],max_depth=list_depths[2])\n",
        "\n",
        "clf = clf.fit(X,y)\n",
        "X_val = df_validation[[\"pixels\"]].to_numpy()\n",
        "new_x_val = []\n",
        "for vert in X_val:\n",
        "  string_pixels = vert[0]\n",
        "  list_pixls = string_pixels.split(\" \")\n",
        "  map_object = map(int, list_pixls)\n",
        "  new_x_val.append(list(map_object))\n",
        "X_val = np.array(new_x_val)\n",
        "y_val = df_validation[[\"emotion\"]].to_numpy()\n",
        "y_prediction = clf.predict(X_val)\n",
        "accuracy = accuracy_score(y_val, y_prediction)\n",
        "print(\"Exactitud:{}\".format(accuracy))\n",
        "print(\"Confusion matrix:\\n\")\n",
        "confusion_matrix(y_val, y_prediction)"
      ],
      "execution_count": null,
      "outputs": [
        {
          "output_type": "stream",
          "text": [
            "Exactitud:0.4\n",
            "Confusion matrix:\n",
            "\n"
          ],
          "name": "stdout"
        },
        {
          "output_type": "execute_result",
          "data": {
            "text/plain": [
              "array([[  0,   0,   0, 259,   0,  24, 139],\n",
              "       [  0,   0,   0,  15,   0,   1,  13],\n",
              "       [  0,   0,   0, 121,   0,  13,  82],\n",
              "       [  0,   0,   0, 910,   0,  18, 320],\n",
              "       [  0,   0,   0, 184,   0,  14, 116],\n",
              "       [  0,   0,   0, 136,   0, 112, 147],\n",
              "       [  0,   0,   0, 404,   0,  34, 338]])"
            ]
          },
          "metadata": {
            "tags": []
          },
          "execution_count": 8
        }
      ]
    },
    {
      "cell_type": "markdown",
      "metadata": {
        "id": "iajV-7_xcwbF"
      },
      "source": [
        "criterion = \"entropy\" max_depth = 20"
      ]
    },
    {
      "cell_type": "code",
      "metadata": {
        "colab": {
          "base_uri": "https://localhost:8080/"
        },
        "id": "ixLkHP4ocz1L",
        "outputId": "ef9cd255-50f7-4442-f3d1-c723a1889fdf"
      },
      "source": [
        "import pandas as pd\n",
        "import matplotlib.pyplot as plt\n",
        "import matplotlib.cm as cm\n",
        "from matplotlib.pyplot import imshow\n",
        "import numpy as np\n",
        "from sklearn.svm import SVC\n",
        "from sklearn.naive_bayes import GaussianNB\n",
        "from sklearn.tree import DecisionTreeClassifier\n",
        "from sklearn.pipeline import make_pipeline\n",
        "from sklearn.preprocessing import StandardScaler\n",
        "from sklearn.metrics import accuracy_score\n",
        "from sklearn.model_selection import cross_validate, train_test_split\n",
        "from sklearn.metrics import confusion_matrix\n",
        "\n",
        "df_training = pd.read_csv('training.csv')\n",
        "df_validation = pd.read_csv('validation.csv')\n",
        "df_testing = pd.read_csv('testing.csv')\n",
        "\n",
        "list_criterions = [\"gini\", \"entropy\"]\n",
        "list_depths = [7,10,3,20,50,70,80]\n",
        "\n",
        "\"\"\"Arbol de decisión\"\"\"\n",
        "X = df_training[[\"pixels\"]].to_numpy()\n",
        "new_x = []\n",
        "for vert in X:\n",
        "  string_pixels = vert[0]\n",
        "  list_pixls = string_pixels.split(\" \")\n",
        "  map_object = map(int, list_pixls)\n",
        "  new_x.append(list(map_object))\n",
        "X = np.array(new_x)\n",
        "y = df_training[[\"emotion\"]].to_numpy()\n",
        "\n",
        "clf = DecisionTreeClassifier().set_params(criterion=list_criterions[1],max_depth=list_depths[3])\n",
        "\n",
        "clf = clf.fit(X,y)\n",
        "X_val = df_validation[[\"pixels\"]].to_numpy()\n",
        "new_x_val = []\n",
        "for vert in X_val:\n",
        "  string_pixels = vert[0]\n",
        "  list_pixls = string_pixels.split(\" \")\n",
        "  map_object = map(int, list_pixls)\n",
        "  new_x_val.append(list(map_object))\n",
        "X_val = np.array(new_x_val)\n",
        "y_val = df_validation[[\"emotion\"]].to_numpy()\n",
        "y_prediction = clf.predict(X_val)\n",
        "accuracy = accuracy_score(y_val, y_prediction)\n",
        "print(\"Exactitud:{}\".format(accuracy))\n",
        "print(\"Confusion matrix:\\n\")\n",
        "confusion_matrix(y_val, y_prediction)"
      ],
      "execution_count": null,
      "outputs": [
        {
          "output_type": "stream",
          "text": [
            "Exactitud:0.3947058823529412\n",
            "Confusion matrix:\n",
            "\n"
          ],
          "name": "stdout"
        },
        {
          "output_type": "execute_result",
          "data": {
            "text/plain": [
              "array([[ 96,   2,  32, 106,  43,  40, 103],\n",
              "       [  7,   2,   4,   7,   1,   4,   4],\n",
              "       [ 29,   3,  41,  53,  25,  18,  47],\n",
              "       [118,  13,  67, 669,  81,  64, 236],\n",
              "       [ 45,   3,  23,  88,  47,  27,  81],\n",
              "       [ 36,   2,  21,  49,  27, 208,  52],\n",
              "       [ 91,   8,  52, 216,  67,  63, 279]])"
            ]
          },
          "metadata": {
            "tags": []
          },
          "execution_count": 9
        }
      ]
    },
    {
      "cell_type": "markdown",
      "metadata": {
        "id": "mcuTyF0rdSTI"
      },
      "source": [
        "criterion= \"entropy\" max_depth= 5"
      ]
    },
    {
      "cell_type": "code",
      "metadata": {
        "colab": {
          "base_uri": "https://localhost:8080/"
        },
        "id": "hKAXLf-HdZFs",
        "outputId": "dcd89e17-9cc8-40e4-ced4-bde0f8d1d8a0"
      },
      "source": [
        "import pandas as pd\n",
        "import matplotlib.pyplot as plt\n",
        "import matplotlib.cm as cm\n",
        "from matplotlib.pyplot import imshow\n",
        "import numpy as np\n",
        "from sklearn.svm import SVC\n",
        "from sklearn.naive_bayes import GaussianNB\n",
        "from sklearn.tree import DecisionTreeClassifier\n",
        "from sklearn.pipeline import make_pipeline\n",
        "from sklearn.preprocessing import StandardScaler\n",
        "from sklearn.metrics import accuracy_score\n",
        "from sklearn.model_selection import cross_validate, train_test_split\n",
        "from sklearn.metrics import confusion_matrix\n",
        "\n",
        "df_training = pd.read_csv('training.csv')\n",
        "df_validation = pd.read_csv('validation.csv')\n",
        "df_testing = pd.read_csv('testing.csv')\n",
        "\n",
        "list_criterions = [\"gini\", \"entropy\"]\n",
        "list_depths = [7,10,3,4,5,20,40]\n",
        "\n",
        "\"\"\"Arbol de decisión\"\"\"\n",
        "X = df_training[[\"pixels\"]].to_numpy()\n",
        "new_x = []\n",
        "for vert in X:\n",
        "  string_pixels = vert[0]\n",
        "  list_pixls = string_pixels.split(\" \")\n",
        "  map_object = map(int, list_pixls)\n",
        "  new_x.append(list(map_object))\n",
        "X = np.array(new_x)\n",
        "y = df_training[[\"emotion\"]].to_numpy()\n",
        "\n",
        "clf = DecisionTreeClassifier().set_params(criterion=list_criterions[1],max_depth=list_depths[4])\n",
        "\n",
        "clf = clf.fit(X,y)\n",
        "X_val = df_validation[[\"pixels\"]].to_numpy()\n",
        "new_x_val = []\n",
        "for vert in X_val:\n",
        "  string_pixels = vert[0]\n",
        "  list_pixls = string_pixels.split(\" \")\n",
        "  map_object = map(int, list_pixls)\n",
        "  new_x_val.append(list(map_object))\n",
        "X_val = np.array(new_x_val)\n",
        "y_val = df_validation[[\"emotion\"]].to_numpy()\n",
        "y_prediction = clf.predict(X_val)\n",
        "accuracy = accuracy_score(y_val, y_prediction)\n",
        "print(\"Exactitud:{}\".format(accuracy))\n",
        "print(\"Confusion matrix:\\n\")\n",
        "confusion_matrix(y_val, y_prediction)"
      ],
      "execution_count": null,
      "outputs": [
        {
          "output_type": "stream",
          "text": [
            "Exactitud:0.4202941176470588\n",
            "Confusion matrix:\n",
            "\n"
          ],
          "name": "stdout"
        },
        {
          "output_type": "execute_result",
          "data": {
            "text/plain": [
              "array([[  5,   0,   0, 206,   6,  41, 164],\n",
              "       [  0,   0,   0,  13,   0,   1,  15],\n",
              "       [  0,   0,   0,  88,   0,  31,  97],\n",
              "       [  8,   0,   0, 848,   4,  54, 334],\n",
              "       [  3,   0,   0, 129,   4,  25, 153],\n",
              "       [  1,   0,   0,  72,   2, 155, 165],\n",
              "       [  4,   0,   0, 313,   3,  39, 417]])"
            ]
          },
          "metadata": {
            "tags": []
          },
          "execution_count": 10
        }
      ]
    },
    {
      "cell_type": "markdown",
      "metadata": {
        "id": "u1KoqC99dtcn"
      },
      "source": [
        "criterion = \"gini\" y max_depth = 40"
      ]
    },
    {
      "cell_type": "code",
      "metadata": {
        "colab": {
          "base_uri": "https://localhost:8080/"
        },
        "id": "SHiSwazCd1JE",
        "outputId": "25381eb0-1d8a-4faa-a043-0202606e5c7c"
      },
      "source": [
        "import pandas as pd\n",
        "import matplotlib.pyplot as plt\n",
        "import matplotlib.cm as cm\n",
        "from matplotlib.pyplot import imshow\n",
        "import numpy as np\n",
        "from sklearn.svm import SVC\n",
        "from sklearn.naive_bayes import GaussianNB\n",
        "from sklearn.tree import DecisionTreeClassifier\n",
        "from sklearn.pipeline import make_pipeline\n",
        "from sklearn.preprocessing import StandardScaler\n",
        "from sklearn.metrics import accuracy_score\n",
        "from sklearn.model_selection import cross_validate, train_test_split\n",
        "from sklearn.metrics import confusion_matrix\n",
        "\n",
        "df_training = pd.read_csv('training.csv')\n",
        "df_validation = pd.read_csv('validation.csv')\n",
        "df_testing = pd.read_csv('testing.csv')\n",
        "\n",
        "list_criterions = [\"gini\", \"entropy\"]\n",
        "list_depths = [7,10,3,4,5,20,40]\n",
        "\n",
        "\"\"\"Arbol de decisión\"\"\"\n",
        "X = df_training[[\"pixels\"]].to_numpy()\n",
        "new_x = []\n",
        "for vert in X:\n",
        "  string_pixels = vert[0]\n",
        "  list_pixls = string_pixels.split(\" \")\n",
        "  map_object = map(int, list_pixls)\n",
        "  new_x.append(list(map_object))\n",
        "X = np.array(new_x)\n",
        "y = df_training[[\"emotion\"]].to_numpy()\n",
        "\n",
        "clf = DecisionTreeClassifier().set_params(criterion=list_criterions[0],max_depth=list_depths[6])\n",
        "\n",
        "clf = clf.fit(X,y)\n",
        "X_val = df_validation[[\"pixels\"]].to_numpy()\n",
        "new_x_val = []\n",
        "for vert in X_val:\n",
        "  string_pixels = vert[0]\n",
        "  list_pixls = string_pixels.split(\" \")\n",
        "  map_object = map(int, list_pixls)\n",
        "  new_x_val.append(list(map_object))\n",
        "X_val = np.array(new_x_val)\n",
        "y_val = df_validation[[\"emotion\"]].to_numpy()\n",
        "y_prediction = clf.predict(X_val)\n",
        "accuracy = accuracy_score(y_val, y_prediction)\n",
        "print(\"Exactitud:{}\".format(accuracy))\n",
        "print(\"Confusion matrix:\\n\")\n",
        "confusion_matrix(y_val, y_prediction)"
      ],
      "execution_count": null,
      "outputs": [
        {
          "output_type": "stream",
          "text": [
            "Exactitud:0.39235294117647057\n",
            "Confusion matrix:\n",
            "\n"
          ],
          "name": "stdout"
        },
        {
          "output_type": "execute_result",
          "data": {
            "text/plain": [
              "array([[ 93,   2,  30, 130,  43,  40,  84],\n",
              "       [  2,   3,   5,   6,   3,   3,   7],\n",
              "       [ 26,   0,  43,  55,  20,  24,  48],\n",
              "       [144,  11,  69, 618,  96,  83, 227],\n",
              "       [ 37,   4,  24,  83,  54,  30,  82],\n",
              "       [ 24,   1,  31,  60,  21, 206,  52],\n",
              "       [ 65,   8,  55, 198,  73,  60, 317]])"
            ]
          },
          "metadata": {
            "tags": []
          },
          "execution_count": 11
        }
      ]
    },
    {
      "cell_type": "markdown",
      "metadata": {
        "id": "4GQ2Zk5XeJ3P"
      },
      "source": [
        "criterio = \"entropy\" y max_depth = 3"
      ]
    },
    {
      "cell_type": "code",
      "metadata": {
        "colab": {
          "base_uri": "https://localhost:8080/"
        },
        "id": "eos-yMbqeV9w",
        "outputId": "56f429c1-9c85-41c5-9552-aa8f8ef5d27d"
      },
      "source": [
        "import pandas as pd\n",
        "import matplotlib.pyplot as plt\n",
        "import matplotlib.cm as cm\n",
        "from matplotlib.pyplot import imshow\n",
        "import numpy as np\n",
        "from sklearn.svm import SVC\n",
        "from sklearn.naive_bayes import GaussianNB\n",
        "from sklearn.tree import DecisionTreeClassifier\n",
        "from sklearn.pipeline import make_pipeline\n",
        "from sklearn.preprocessing import StandardScaler\n",
        "from sklearn.metrics import accuracy_score\n",
        "from sklearn.model_selection import cross_validate, train_test_split\n",
        "from sklearn.metrics import confusion_matrix\n",
        "\n",
        "df_training = pd.read_csv('training.csv')\n",
        "df_validation = pd.read_csv('validation.csv')\n",
        "df_testing = pd.read_csv('testing.csv')\n",
        "\n",
        "list_criterions = [\"gini\", \"entropy\"]\n",
        "list_depths = [7,10,3,4,5,20,40]\n",
        "\n",
        "\"\"\"Arbol de decisión\"\"\"\n",
        "X = df_training[[\"pixels\"]].to_numpy()\n",
        "new_x = []\n",
        "for vert in X:\n",
        "  string_pixels = vert[0]\n",
        "  list_pixls = string_pixels.split(\" \")\n",
        "  map_object = map(int, list_pixls)\n",
        "  new_x.append(list(map_object))\n",
        "X = np.array(new_x)\n",
        "y = df_training[[\"emotion\"]].to_numpy()\n",
        "\n",
        "clf = DecisionTreeClassifier().set_params(criterion=list_criterions[1],max_depth=list_depths[2])\n",
        "\n",
        "clf = clf.fit(X,y)\n",
        "X_val = df_validation[[\"pixels\"]].to_numpy()\n",
        "new_x_val = []\n",
        "for vert in X_val:\n",
        "  string_pixels = vert[0]\n",
        "  list_pixls = string_pixels.split(\" \")\n",
        "  map_object = map(int, list_pixls)\n",
        "  new_x_val.append(list(map_object))\n",
        "X_val = np.array(new_x_val)\n",
        "y_val = df_validation[[\"emotion\"]].to_numpy()\n",
        "y_prediction = clf.predict(X_val)\n",
        "accuracy = accuracy_score(y_val, y_prediction)\n",
        "print(\"Exactitud:{}\".format(accuracy))\n",
        "print(\"Confusion matrix:\\n\")\n",
        "confusion_matrix(y_val, y_prediction)"
      ],
      "execution_count": null,
      "outputs": [
        {
          "output_type": "stream",
          "text": [
            "Exactitud:0.4052941176470588\n",
            "Confusion matrix:\n",
            "\n"
          ],
          "name": "stdout"
        },
        {
          "output_type": "execute_result",
          "data": {
            "text/plain": [
              "array([[   0,    0,    0,  300,    0,   26,   96],\n",
              "       [   0,    0,    0,   19,    0,    2,    8],\n",
              "       [   0,    0,    0,  142,    0,   18,   56],\n",
              "       [   0,    0,    0, 1059,    0,   34,  155],\n",
              "       [   0,    0,    0,  221,    0,   14,   79],\n",
              "       [   0,    0,    0,  188,    0,  120,   87],\n",
              "       [   0,    0,    0,  548,    0,   29,  199]])"
            ]
          },
          "metadata": {
            "tags": []
          },
          "execution_count": 12
        }
      ]
    },
    {
      "cell_type": "markdown",
      "metadata": {
        "id": "KdEsuS5Peno3"
      },
      "source": [
        "Estudio del clasificador bayesiano ingenuo"
      ]
    },
    {
      "cell_type": "code",
      "metadata": {
        "colab": {
          "base_uri": "https://localhost:8080/"
        },
        "id": "A3_mvNepexTK",
        "outputId": "389a4e0a-3e6b-4846-ba44-523351aa2a46"
      },
      "source": [
        "import pandas as pd\n",
        "import matplotlib.pyplot as plt\n",
        "import matplotlib.cm as cm\n",
        "from matplotlib.pyplot import imshow\n",
        "import numpy as np\n",
        "from sklearn.svm import SVC\n",
        "from sklearn.naive_bayes import GaussianNB\n",
        "from sklearn.tree import DecisionTreeClassifier\n",
        "from sklearn.pipeline import make_pipeline\n",
        "from sklearn.preprocessing import StandardScaler\n",
        "from sklearn.metrics import accuracy_score\n",
        "from sklearn.model_selection import cross_validate, train_test_split\n",
        "from sklearn.metrics import confusion_matrix, ConfusionMatrixDisplay\n",
        "\n",
        "df_training = pd.read_csv('training.csv')\n",
        "df_validation = pd.read_csv('validation.csv')\n",
        "df_testing = pd.read_csv('testing.csv')\n",
        "\n",
        "\n",
        "\"\"\"Arbol de decisión\"\"\"\n",
        "X = df_training[[\"pixels\"]].to_numpy()\n",
        "new_x = []\n",
        "for vert in X:\n",
        "  string_pixels = vert[0]\n",
        "  list_pixls = string_pixels.split(\" \")\n",
        "  map_object = map(int, list_pixls)\n",
        "  new_x.append(list(map_object))\n",
        "X = np.array(new_x)\n",
        "y = df_training[[\"emotion\"]].to_numpy()\n",
        "\n",
        "clf = GaussianNB()\n",
        "clf = clf.fit(X,y)\n",
        "X_val = df_validation[[\"pixels\"]].to_numpy()\n",
        "new_x_val = []\n",
        "for vert in X_val:\n",
        "  string_pixels = vert[0]\n",
        "  list_pixls = string_pixels.split(\" \")\n",
        "  map_object = map(int, list_pixls)\n",
        "  new_x_val.append(list(map_object))\n",
        "X_val = np.array(new_x_val)\n",
        "y_val = df_validation[[\"emotion\"]].to_numpy()\n",
        "y_prediction = clf.predict(X_val)\n",
        "accuracy = accuracy_score(y_val, y_prediction)\n",
        "print(\"Exactitud:{}\".format(accuracy))\n",
        "print(\"Confusion matrix:\\n\")\n",
        "confusion_matrix(y_val, y_prediction)"
      ],
      "execution_count": null,
      "outputs": [
        {
          "output_type": "stream",
          "text": [
            "/usr/local/lib/python3.7/dist-packages/sklearn/naive_bayes.py:206: DataConversionWarning: A column-vector y was passed when a 1d array was expected. Please change the shape of y to (n_samples, ), for example using ravel().\n",
            "  y = column_or_1d(y, warn=True)\n"
          ],
          "name": "stderr"
        },
        {
          "output_type": "stream",
          "text": [
            "Exactitud:0.21382352941176472\n",
            "Confusion matrix:\n",
            "\n"
          ],
          "name": "stdout"
        },
        {
          "output_type": "execute_result",
          "data": {
            "text/plain": [
              "array([[ 33,  57,  24,  31, 128, 110,  39],\n",
              "       [  3,   6,   3,   1,   2,  10,   4],\n",
              "       [ 11,  40,  18,   9,  44,  71,  23],\n",
              "       [ 61, 203,  57, 197, 245, 311, 174],\n",
              "       [ 28,  38,  19,  25,  98,  68,  38],\n",
              "       [ 15,  27,  18,  21,  28, 239,  47],\n",
              "       [ 32, 102,  34,  61, 231, 180, 136]])"
            ]
          },
          "metadata": {
            "tags": []
          },
          "execution_count": 13
        }
      ]
    },
    {
      "cell_type": "markdown",
      "metadata": {
        "id": "msXOEV2afJbA"
      },
      "source": [
        "Conclusiones y respuestas a preguntas:\n",
        "\n",
        "¿Qué clasificador tiene mejor resultado con este problema?:\n",
        "\n",
        "El clasificador con mejores resultados fue SVM con parametros kernel=\"rbf\" y slack = 7, con una exactitud del 59.35294% aproximadamente.\n",
        "\n",
        "¿Cual es la posible razón?:\n",
        "Una de las razones principales es que las clases son faciles de separar linealmente. Esto se puede deber a que las distintas emociones generan valores de pixeles en posiciones (x,y) que se diferencian bastante entre ellas y, por lo tanto, estas clases pueden ser separadas linealmente con mas facilidad.\n",
        "\n",
        "Otra razón se debe la naturaleza misma del clasificador SVM, en donde este maximiza el margen de clasificación. O sea, clasifica de tal manera que los valores de los pixeles de cada clase que estan mas cercanos entre ellos los toma como puntos de frontera para así construir un plano g(Xk) que separa linealmente las clases con fronteras de minimo margen.\n",
        "\n",
        "Por ultimo esta tabién la posibilidad de que no ocurrió overfitting.\n",
        "\n",
        "\n",
        "¿Por qué le podría ir mal al peor de los clasificadores?:\n",
        "El peor de los clasificadores fue el clasificador bayesiano ingenuo.\n",
        "Existen dos razones principales de por que le pudo haber ido mal. Por un lado esta la posibilidad de overfitting y, por otro lado, la base de datos pudo no haber tenido la cantidad de datos suficientes, ya que en general un clasificador bayesiano ingenuo tiene mejores resultados con datasets con muchos datos.\n"
      ]
    },
    {
      "cell_type": "markdown",
      "metadata": {
        "id": "PQc_UCmrfyND"
      },
      "source": [
        "4.\n",
        "La matriz de confusión del mejor clasificador con los mejores hiperparametros fue el del clasificador SVM con hyperparametros kernel=\"rbf\" y slack = 7:\n",
        "\n",
        "\n",
        "```\n",
        "array([[ 155,    0,   20,  120,   28,   18,   81],\n",
        "       [   4,    3,    5,    8,    1,    2,    6],\n",
        "       [  24,    0,   55,   54,   17,   22,   44],\n",
        "       [  49,    0,    8, 1029,   25,   20,  117],\n",
        "       [  48,    0,   18,   94,   55,    7,   92],\n",
        "       [  22,    0,   12,   42,    2,  269,   48],\n",
        "       [  52,    0,   22,  183,   42,   25,  452]])\n",
        "```\n",
        "\n",
        "El error más común fue la predicción de una emoción neutral cuando realmente era alegría. Luego de ver las imagenes, este error se puede explicar debido a los leves cambios faciales que diferencian a estas dos emociones y por lo tanto en los valores de los pixeles y sus posiciones en el plano cartesiano. De esta manera no le fue facil a este clasificador poder separar linealmente estas dos clases.\n",
        "\n",
        "La categoría que obtiene el mejor rendimiento es alegría. Esto se puede deber a que es la clase con mas muestras entre las 7 clases.\n",
        "\n",
        "La categoría con mas bajo rendimiento fue asco. Esto se puede deber a la poca cantidad de muestras que tiene esta clase siendo la mas baja entre las 7 clases."
      ]
    },
    {
      "cell_type": "markdown",
      "metadata": {
        "id": "SeXnwf9xjWJD"
      },
      "source": [
        "5."
      ]
    },
    {
      "cell_type": "code",
      "metadata": {
        "colab": {
          "base_uri": "https://localhost:8080/"
        },
        "id": "-9MnHqIujgCr",
        "outputId": "bc3fa650-6bdb-48e6-8908-3f1933a2042c"
      },
      "source": [
        "import pandas as pd\n",
        "import matplotlib.pyplot as plt\n",
        "import matplotlib.cm as cm\n",
        "from matplotlib.pyplot import imshow\n",
        "import numpy as np\n",
        "from sklearn.svm import SVC\n",
        "from sklearn.naive_bayes import GaussianNB\n",
        "from sklearn.tree import DecisionTreeClassifier\n",
        "from sklearn.pipeline import make_pipeline\n",
        "from sklearn.preprocessing import StandardScaler\n",
        "from sklearn.metrics import accuracy_score\n",
        "from sklearn.model_selection import cross_validate\n",
        "from sklearn.metrics import confusion_matrix\n",
        "\n",
        "df_training = pd.read_csv('training.csv')\n",
        "df_validation = pd.read_csv('validation.csv')\n",
        "df_testing = pd.read_csv('testing.csv')\n",
        "\n",
        "\"\"\"SVM\"\"\"\n",
        "X = df_training[[\"pixels\"]].to_numpy()\n",
        "new_x = []\n",
        "for vert in X:\n",
        "  string_pixels = vert[0]\n",
        "  list_pixls = string_pixels.split(\" \")\n",
        "  map_object = map(int, list_pixls)\n",
        "  new_x.append(list(map_object))\n",
        "X = np.array(new_x)\n",
        "y = df_training[[\"emotion\"]].to_numpy()\n",
        "\n",
        "list_kernels = [\"linear\",\"rbf\", \"sigmoid\"]\n",
        "list_slacks = [1,7,5,0.3,0.6]\n",
        "clf = make_pipeline(StandardScaler(), SVC(C=list_slacks[1],kernel=list_kernels[1]))\n",
        "clf.fit(X, y)\n",
        "X_test = df_testing[[\"pixels\"]].to_numpy()\n",
        "new_x_test = []\n",
        "for vert in X_test:\n",
        "  string_pixels = vert[0]\n",
        "  list_pixls = string_pixels.split(\" \")\n",
        "  map_object = map(int, list_pixls)\n",
        "  new_x_test.append(list(map_object))\n",
        "X_test = np.array(new_x_test)\n",
        "y_test = df_testing[[\"emotion\"]].to_numpy()\n",
        "y_prediction = clf.predict(X_test)\n",
        "accuracy = accuracy_score(y_test, y_prediction)\n",
        "print(\"Exactitud:{}\".format(accuracy))\n",
        "print(\"Confusion matrix:\\n\")\n",
        "confusion_matrix(y_test, y_prediction)"
      ],
      "execution_count": null,
      "outputs": [
        {
          "output_type": "stream",
          "text": [
            "/usr/local/lib/python3.7/dist-packages/sklearn/utils/validation.py:760: DataConversionWarning: A column-vector y was passed when a 1d array was expected. Please change the shape of y to (n_samples, ), for example using ravel().\n",
            "  y = column_or_1d(y, warn=True)\n"
          ],
          "name": "stderr"
        },
        {
          "output_type": "stream",
          "text": [
            "Exactitud:0.6258064516129033\n",
            "Confusion matrix:\n",
            "\n"
          ],
          "name": "stdout"
        },
        {
          "output_type": "execute_result",
          "data": {
            "text/plain": [
              "array([[ 68,   0,  16,  49,  12,   2,  37],\n",
              "       [  1,   3,   1,   2,   2,   0,   2],\n",
              "       [ 15,   0,  32,  31,  12,  16,  26],\n",
              "       [ 28,   0,   4, 508,  18,   8,  58],\n",
              "       [ 21,   0,   7,  33,  26,   5,  34],\n",
              "       [  8,   0,   7,  18,   3, 156,  23],\n",
              "       [ 28,   0,   4,  84,  17,   6, 274]])"
            ]
          },
          "metadata": {
            "tags": []
          },
          "execution_count": 14
        }
      ]
    },
    {
      "cell_type": "markdown",
      "metadata": {
        "id": "8gVFZ4DakbUb"
      },
      "source": [
        "Análisis:\n",
        "Se seleccionó el clasificador SVM con hyperparametros kernel=\"rbf\" y slack=7 ya que tuvo el mejor rendimiento con un 59.35294% aproximado de exactitud.\n",
        "\n",
        "Se puede apreciar que al predecir con el la matriz X del set de test mediante este clasificador entrenado, obtenemos una mayor exactitud con aproximadamente un 3.23% de mejora.\n",
        "\n",
        "Matriz de confusión de la parte 4:\n",
        "```\n",
        "array([[ 155,    0,   20,  120,   28,   18,   81],\n",
        "       [   4,    3,    5,    8,    1,    2,    6],\n",
        "       [  24,    0,   55,   54,   17,   22,   44],\n",
        "       [  49,    0,    8, 1029,   25,   20,  117],\n",
        "       [  48,    0,   18,   94,   55,    7,   92],\n",
        "       [  22,    0,   12,   42,    2,  269,   48],\n",
        "       [  52,    0,   22,  183,   42,   25,  452]])\n",
        "```\n",
        "Matriz de confusión generado con el set de test:\n",
        "```\n",
        "array([[ 68,   0,  16,  49,  12,   2,  37],\n",
        "       [  1,   3,   1,   2,   2,   0,   2],\n",
        "       [ 15,   0,  32,  31,  12,  16,  26],\n",
        "       [ 28,   0,   4, 508,  18,   8,  58],\n",
        "       [ 21,   0,   7,  33,  26,   5,  34],\n",
        "       [  8,   0,   7,  18,   3, 156,  23],\n",
        "       [ 28,   0,   4,  84,  17,   6, 274]])\n",
        "```\n",
        "En general se puede apreciar que la diagonal de la matriz de confusión obtenida con el set de test tiene mejores valores con respecto a los valores en proporción a los de confusion en la matriz de confusión de la parte 4. Esto se concluye por el 3.23% de mejora en exactitud de predicción.\n",
        "\n",
        "Al igual que en la parte 4, el error más común fue la predicción de una emoción neutral cuando realmente era alegría. La explicación de por que se pudo haber dado esto se encuentra en la parte 4.\n",
        "\n",
        "Al igual que en la parte 4, la categoría que obtiene el mejor rendimiento es alegría. Esto se puede deber a que es la clase con mas muestras entre las 7 clases.\n",
        "\n",
        "La categoría con mas bajo rendimiento fue asco. Esto se puede deber a la poca cantidad de muestras que tiene esta clase siendo la mas baja entre las 7 clases.\n",
        "\n"
      ]
    },
    {
      "cell_type": "code",
      "metadata": {
        "id": "HgbfAnGvZNL7"
      },
      "source": [],
      "execution_count": null,
      "outputs": []
    },
    {
      "cell_type": "markdown",
      "metadata": {
        "id": "l9tXSqBpkg7c"
      },
      "source": [
        "6."
      ]
    },
    {
      "cell_type": "markdown",
      "metadata": {
        "id": "u6ktNzRWXuLz"
      },
      "source": [
        "En primer lugar partiré con las definiciones y comparaciones de las tecnincas de Boosting y Bagging:\n",
        "\n",
        "La técnica Boosting busca crear modelos que se vuelven expertos en los datos que no pudieron ser explicados por los modelos anteriores (Ensamble de Clasificadores, E Morales, H Jair). Para lograr esto, esta tecnica ensambla calsificadores de manera sequencial y va cambiando las muestras y ejemplos con pesos respectivos que dependen de que tan mal fueron clasificados. La idea del boosting es forzar a los nuevos clasificadores generados a minimizar el error esperado al asignar mas peso a los ejemplos mal clasificados y menos a los bien clasificados(Ensamble de Clasificadores, E Morales, H Jair).  El clasificador final se forma usando un esquema de votacion pesado que depende  del desempeño de cada clasificador en su conjunto de entrenamiento (Ensamble de Clasificadores, E Morales, H Jair).\n",
        "\n",
        "La técnica Bagging comienza separando el training set en varios sub-training sets. Luego se utilizan diferentes clasificadores para modelar estos training sets mas pequeños de manera paralela. Cada clasificador es único con respecto a su forma de modelar para su respectivo training set. Al final se construye un clasificador dependiendo de la clase que se retorna mayoritariamente entre los clasificadores anteriores(Ensamble de Clasificadores, E Morales, H Jair).Al combinar varios clasificadores se reduce el error esperado al reducir la varianza. Esta técnica funciona bien para clasificadores como los arboles de decisiones.\n",
        "\n",
        "Al comparar ambas técnicas podemos apreciar que las dos generan clasificadores pero de manera distinta. Por un lado Boosting los genera secuencialmente y por el otro Bagging los genera paralelamente. Una diferencia esencial entre estas dos técnicas es en la forma en que se decide el  clasificador optimo final. Por un lado, Boosting ocupa pesos para tomar esta decision y, por el otro lado, Bagging utiliza un voto mayoritario para tomar esta decision sobre el clasificador.\n",
        "\n",
        "Luego de tomar en cuenta mis conocimientos aprendidos en clases, mi experiencia con el set de datos entregado y las referencias encontradas en el interent, propongo una arquitectura de ensamble de SVM con kernerl \"rbf\", ya que estos fueron los unicos con errores menores al 50%, y se propone la metodología boosting ya que la técnica Bagging no funciona bien para clasificadores como SVM pero si para arboles de decisión. También elegí la metodología Boosting ya que enfatiza los ejemplos mal clasificados al asignarles pesos lo cual sería de grán ayuda dado este set de datos y este problema de clasificación, ya que se generan muchos errores de clasificación y por lo tanto podría mejorar sustancialmente en su exactitud de predicción el clasificador final generado por el ensamble.\n",
        "\n",
        "A continuación se muestra un diagrama de bloques de la arquitectura propuesta:\n",
        "![Screen Shot 2021-06-30 at 6.18.33 PM.png](data:image/png;base64,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)\n",
        "\n",
        "Bibliografía: Ensambles de Clasificadores, Eduardo Morales, Hugo Jair Escalante, INAOE. Obtenido de https://ccc.inaoep.mx/~emorales/Cursos/Aprendizaje2/Acetatos/ensambles.pdf"
      ]
    },
    {
      "cell_type": "code",
      "metadata": {
        "id": "mO66yKd-kiD8"
      },
      "source": [],
      "execution_count": null,
      "outputs": []
    }
  ],
  "metadata": {
    "colab": {
      "name": "Te damos la bienvenida a Colaboratory",
      "provenance": [],
      "include_colab_link": true
    },
    "kernelspec": {
      "display_name": "Python 3",
      "name": "python3"
    }
  },
  "nbformat": 4,
  "nbformat_minor": 0
}